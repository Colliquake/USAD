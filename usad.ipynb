{
 "cells": [
  {
   "cell_type": "code",
   "execution_count": 1,
   "id": "009bb46b",
   "metadata": {},
   "outputs": [],
   "source": [
    "import numpy as np\n",
    "import pandas as pd\n",
    "import torch\n",
    "from sklearn import preprocessing\n",
    "from model import *\n",
    "from torch.utils.data import DataLoader\n",
    "import matplotlib.pyplot as plt\n",
    "from tqdm import tqdm"
   ]
  },
  {
   "cell_type": "code",
   "execution_count": 2,
   "id": "247f1be5",
   "metadata": {},
   "outputs": [
    {
     "name": "stdout",
     "output_type": "stream",
     "text": [
      "cuda\n"
     ]
    }
   ],
   "source": [
    "device = torch.device('cuda' if torch.cuda.is_available() else 'cpu')\n",
    "print(device)"
   ]
  },
  {
   "cell_type": "markdown",
   "id": "0278e264",
   "metadata": {},
   "source": [
    "## Preprocessing"
   ]
  },
  {
   "cell_type": "markdown",
   "id": "acfad9b5",
   "metadata": {},
   "source": [
    "### Normal"
   ]
  },
  {
   "cell_type": "code",
   "execution_count": 3,
   "id": "aea1699f",
   "metadata": {},
   "outputs": [
    {
     "name": "stderr",
     "output_type": "stream",
     "text": [
      "C:\\Users\\alexr\\AppData\\Local\\Temp\\ipykernel_5708\\4111822205.py:1: DtypeWarning: Columns (26) have mixed types. Specify dtype option on import or set low_memory=False.\n",
      "  normal = pd.read_csv(\"datasets/SWaT/SWaT_Dataset_Normal_v1.csv\", sep=',')\n"
     ]
    },
    {
     "data": {
      "text/plain": [
       "(495000, 51)"
      ]
     },
     "execution_count": 3,
     "metadata": {},
     "output_type": "execute_result"
    }
   ],
   "source": [
    "normal = pd.read_csv(\"datasets/SWaT/SWaT_Dataset_Normal_v1.csv\", sep=',')\n",
    "normal = normal.drop([\"Timestamp\", \"Normal/Attack\"], axis=1)\n",
    "normal.shape"
   ]
  },
  {
   "cell_type": "code",
   "execution_count": 4,
   "id": "cc6b62cc",
   "metadata": {},
   "outputs": [],
   "source": [
    "# France uses commas as decimal separator; convert all columns into floats\n",
    "for i in list(normal):\n",
    "    normal[i] = normal[i].apply(lambda x: str(x).replace(',', '.'))\n",
    "normal = normal.astype(float)"
   ]
  },
  {
   "cell_type": "code",
   "execution_count": 5,
   "id": "b7e36bb7",
   "metadata": {},
   "outputs": [],
   "source": [
    "minmax_scaler = preprocessing.MinMaxScaler()\n",
    "\n",
    "scaled = minmax_scaler.fit_transform(normal)\n",
    "normal = pd.DataFrame(scaled)"
   ]
  },
  {
   "cell_type": "code",
   "execution_count": 6,
   "id": "534f0aba",
   "metadata": {},
   "outputs": [
    {
     "data": {
      "text/html": [
       "<div>\n",
       "<style scoped>\n",
       "    .dataframe tbody tr th:only-of-type {\n",
       "        vertical-align: middle;\n",
       "    }\n",
       "\n",
       "    .dataframe tbody tr th {\n",
       "        vertical-align: top;\n",
       "    }\n",
       "\n",
       "    .dataframe thead th {\n",
       "        text-align: right;\n",
       "    }\n",
       "</style>\n",
       "<table border=\"1\" class=\"dataframe\">\n",
       "  <thead>\n",
       "    <tr style=\"text-align: right;\">\n",
       "      <th></th>\n",
       "      <th>0</th>\n",
       "      <th>1</th>\n",
       "      <th>2</th>\n",
       "      <th>3</th>\n",
       "      <th>4</th>\n",
       "      <th>5</th>\n",
       "      <th>6</th>\n",
       "      <th>7</th>\n",
       "      <th>8</th>\n",
       "      <th>9</th>\n",
       "      <th>...</th>\n",
       "      <th>41</th>\n",
       "      <th>42</th>\n",
       "      <th>43</th>\n",
       "      <th>44</th>\n",
       "      <th>45</th>\n",
       "      <th>46</th>\n",
       "      <th>47</th>\n",
       "      <th>48</th>\n",
       "      <th>49</th>\n",
       "      <th>50</th>\n",
       "    </tr>\n",
       "  </thead>\n",
       "  <tbody>\n",
       "    <tr>\n",
       "      <th>0</th>\n",
       "      <td>0.0</td>\n",
       "      <td>0.005294</td>\n",
       "      <td>0.5</td>\n",
       "      <td>0.0</td>\n",
       "      <td>0.0</td>\n",
       "      <td>0.012291</td>\n",
       "      <td>0.075099</td>\n",
       "      <td>0.002009</td>\n",
       "      <td>0.0</td>\n",
       "      <td>0.5</td>\n",
       "      <td>...</td>\n",
       "      <td>0.0</td>\n",
       "      <td>0.0</td>\n",
       "      <td>0.0</td>\n",
       "      <td>0.000814</td>\n",
       "      <td>0.0</td>\n",
       "      <td>0.001217</td>\n",
       "      <td>0.000147</td>\n",
       "      <td>0.0</td>\n",
       "      <td>0.0</td>\n",
       "      <td>0.0</td>\n",
       "    </tr>\n",
       "    <tr>\n",
       "      <th>1</th>\n",
       "      <td>0.0</td>\n",
       "      <td>0.005407</td>\n",
       "      <td>0.5</td>\n",
       "      <td>0.0</td>\n",
       "      <td>0.0</td>\n",
       "      <td>0.012291</td>\n",
       "      <td>0.075099</td>\n",
       "      <td>0.002009</td>\n",
       "      <td>0.0</td>\n",
       "      <td>0.5</td>\n",
       "      <td>...</td>\n",
       "      <td>0.0</td>\n",
       "      <td>0.0</td>\n",
       "      <td>0.0</td>\n",
       "      <td>0.000814</td>\n",
       "      <td>0.0</td>\n",
       "      <td>0.001217</td>\n",
       "      <td>0.000147</td>\n",
       "      <td>0.0</td>\n",
       "      <td>0.0</td>\n",
       "      <td>0.0</td>\n",
       "    </tr>\n",
       "    <tr>\n",
       "      <th>2</th>\n",
       "      <td>0.0</td>\n",
       "      <td>0.005520</td>\n",
       "      <td>0.5</td>\n",
       "      <td>0.0</td>\n",
       "      <td>0.0</td>\n",
       "      <td>0.012291</td>\n",
       "      <td>0.075099</td>\n",
       "      <td>0.002009</td>\n",
       "      <td>0.0</td>\n",
       "      <td>0.5</td>\n",
       "      <td>...</td>\n",
       "      <td>0.0</td>\n",
       "      <td>0.0</td>\n",
       "      <td>0.0</td>\n",
       "      <td>0.000814</td>\n",
       "      <td>0.0</td>\n",
       "      <td>0.001217</td>\n",
       "      <td>0.000147</td>\n",
       "      <td>0.0</td>\n",
       "      <td>0.0</td>\n",
       "      <td>0.0</td>\n",
       "    </tr>\n",
       "    <tr>\n",
       "      <th>3</th>\n",
       "      <td>0.0</td>\n",
       "      <td>0.005801</td>\n",
       "      <td>0.5</td>\n",
       "      <td>0.0</td>\n",
       "      <td>0.0</td>\n",
       "      <td>0.012291</td>\n",
       "      <td>0.075099</td>\n",
       "      <td>0.002009</td>\n",
       "      <td>0.0</td>\n",
       "      <td>0.5</td>\n",
       "      <td>...</td>\n",
       "      <td>0.0</td>\n",
       "      <td>0.0</td>\n",
       "      <td>0.0</td>\n",
       "      <td>0.000814</td>\n",
       "      <td>0.0</td>\n",
       "      <td>0.001217</td>\n",
       "      <td>0.000147</td>\n",
       "      <td>0.0</td>\n",
       "      <td>0.0</td>\n",
       "      <td>0.0</td>\n",
       "    </tr>\n",
       "    <tr>\n",
       "      <th>4</th>\n",
       "      <td>0.0</td>\n",
       "      <td>0.005576</td>\n",
       "      <td>0.5</td>\n",
       "      <td>0.0</td>\n",
       "      <td>0.0</td>\n",
       "      <td>0.012291</td>\n",
       "      <td>0.075099</td>\n",
       "      <td>0.002009</td>\n",
       "      <td>0.0</td>\n",
       "      <td>0.5</td>\n",
       "      <td>...</td>\n",
       "      <td>0.0</td>\n",
       "      <td>0.0</td>\n",
       "      <td>0.0</td>\n",
       "      <td>0.000814</td>\n",
       "      <td>0.0</td>\n",
       "      <td>0.001217</td>\n",
       "      <td>0.000147</td>\n",
       "      <td>0.0</td>\n",
       "      <td>0.0</td>\n",
       "      <td>0.0</td>\n",
       "    </tr>\n",
       "  </tbody>\n",
       "</table>\n",
       "<p>5 rows × 51 columns</p>\n",
       "</div>"
      ],
      "text/plain": [
       "    0         1    2    3    4         5         6         7    8    9   ...  \\\n",
       "0  0.0  0.005294  0.5  0.0  0.0  0.012291  0.075099  0.002009  0.0  0.5  ...   \n",
       "1  0.0  0.005407  0.5  0.0  0.0  0.012291  0.075099  0.002009  0.0  0.5  ...   \n",
       "2  0.0  0.005520  0.5  0.0  0.0  0.012291  0.075099  0.002009  0.0  0.5  ...   \n",
       "3  0.0  0.005801  0.5  0.0  0.0  0.012291  0.075099  0.002009  0.0  0.5  ...   \n",
       "4  0.0  0.005576  0.5  0.0  0.0  0.012291  0.075099  0.002009  0.0  0.5  ...   \n",
       "\n",
       "    41   42   43        44   45        46        47   48   49   50  \n",
       "0  0.0  0.0  0.0  0.000814  0.0  0.001217  0.000147  0.0  0.0  0.0  \n",
       "1  0.0  0.0  0.0  0.000814  0.0  0.001217  0.000147  0.0  0.0  0.0  \n",
       "2  0.0  0.0  0.0  0.000814  0.0  0.001217  0.000147  0.0  0.0  0.0  \n",
       "3  0.0  0.0  0.0  0.000814  0.0  0.001217  0.000147  0.0  0.0  0.0  \n",
       "4  0.0  0.0  0.0  0.000814  0.0  0.001217  0.000147  0.0  0.0  0.0  \n",
       "\n",
       "[5 rows x 51 columns]"
      ]
     },
     "execution_count": 6,
     "metadata": {},
     "output_type": "execute_result"
    }
   ],
   "source": [
    "normal.head()"
   ]
  },
  {
   "cell_type": "code",
   "execution_count": 7,
   "id": "00affd0b",
   "metadata": {},
   "outputs": [
    {
     "data": {
      "text/html": [
       "<div>\n",
       "<style scoped>\n",
       "    .dataframe tbody tr th:only-of-type {\n",
       "        vertical-align: middle;\n",
       "    }\n",
       "\n",
       "    .dataframe tbody tr th {\n",
       "        vertical-align: top;\n",
       "    }\n",
       "\n",
       "    .dataframe thead th {\n",
       "        text-align: right;\n",
       "    }\n",
       "</style>\n",
       "<table border=\"1\" class=\"dataframe\">\n",
       "  <thead>\n",
       "    <tr style=\"text-align: right;\">\n",
       "      <th></th>\n",
       "      <th>0</th>\n",
       "      <th>1</th>\n",
       "      <th>2</th>\n",
       "      <th>3</th>\n",
       "      <th>4</th>\n",
       "      <th>5</th>\n",
       "      <th>6</th>\n",
       "      <th>7</th>\n",
       "      <th>8</th>\n",
       "      <th>9</th>\n",
       "      <th>...</th>\n",
       "      <th>41</th>\n",
       "      <th>42</th>\n",
       "      <th>43</th>\n",
       "      <th>44</th>\n",
       "      <th>45</th>\n",
       "      <th>46</th>\n",
       "      <th>47</th>\n",
       "      <th>48</th>\n",
       "      <th>49</th>\n",
       "      <th>50</th>\n",
       "    </tr>\n",
       "  </thead>\n",
       "  <tbody>\n",
       "  </tbody>\n",
       "</table>\n",
       "<p>0 rows × 51 columns</p>\n",
       "</div>"
      ],
      "text/plain": [
       "Empty DataFrame\n",
       "Columns: [0, 1, 2, 3, 4, 5, 6, 7, 8, 9, 10, 11, 12, 13, 14, 15, 16, 17, 18, 19, 20, 21, 22, 23, 24, 25, 26, 27, 28, 29, 30, 31, 32, 33, 34, 35, 36, 37, 38, 39, 40, 41, 42, 43, 44, 45, 46, 47, 48, 49, 50]\n",
       "Index: []\n",
       "\n",
       "[0 rows x 51 columns]"
      ]
     },
     "execution_count": 7,
     "metadata": {},
     "output_type": "execute_result"
    }
   ],
   "source": [
    "# no null values\n",
    "normal[normal.isna().any(axis=1)]"
   ]
  },
  {
   "cell_type": "markdown",
   "id": "1de25dd6",
   "metadata": {},
   "source": [
    "### Attack"
   ]
  },
  {
   "cell_type": "code",
   "execution_count": 8,
   "id": "dd06d636",
   "metadata": {},
   "outputs": [
    {
     "name": "stderr",
     "output_type": "stream",
     "text": [
      "C:\\Users\\alexr\\AppData\\Local\\Temp\\ipykernel_5708\\672767586.py:1: DtypeWarning: Columns (1,9,28,46) have mixed types. Specify dtype option on import or set low_memory=False.\n",
      "  attack = pd.read_csv(\"datasets/SWaT/SWaT_Dataset_Attack_v0.csv\", sep=';')\n"
     ]
    },
    {
     "data": {
      "text/plain": [
       "(449919, 51)"
      ]
     },
     "execution_count": 8,
     "metadata": {},
     "output_type": "execute_result"
    }
   ],
   "source": [
    "attack = pd.read_csv(\"datasets/SWaT/SWaT_Dataset_Attack_v0.csv\", sep=';')\n",
    "labels = [float(label != 'Normal') for label in attack[\"Normal/Attack\"]]\n",
    "attack = attack.drop([\"Timestamp\", \"Normal/Attack\"], axis=1)\n",
    "attack.shape"
   ]
  },
  {
   "cell_type": "code",
   "execution_count": 9,
   "id": "a4413350",
   "metadata": {},
   "outputs": [],
   "source": [
    "# France uses commas as decimal separator; convert all columns into floats\n",
    "for i in list(attack):\n",
    "    attack[i] = attack[i].apply(lambda x: str(x).replace(',', '.'))\n",
    "attack = attack.astype(float)"
   ]
  },
  {
   "cell_type": "code",
   "execution_count": 10,
   "id": "e423a420",
   "metadata": {},
   "outputs": [],
   "source": [
    "scaled = minmax_scaler.transform(attack)\n",
    "attack = pd.DataFrame(scaled)"
   ]
  },
  {
   "cell_type": "code",
   "execution_count": 11,
   "id": "2d36b602",
   "metadata": {},
   "outputs": [
    {
     "data": {
      "text/html": [
       "<div>\n",
       "<style scoped>\n",
       "    .dataframe tbody tr th:only-of-type {\n",
       "        vertical-align: middle;\n",
       "    }\n",
       "\n",
       "    .dataframe tbody tr th {\n",
       "        vertical-align: top;\n",
       "    }\n",
       "\n",
       "    .dataframe thead th {\n",
       "        text-align: right;\n",
       "    }\n",
       "</style>\n",
       "<table border=\"1\" class=\"dataframe\">\n",
       "  <thead>\n",
       "    <tr style=\"text-align: right;\">\n",
       "      <th></th>\n",
       "      <th>0</th>\n",
       "      <th>1</th>\n",
       "      <th>2</th>\n",
       "      <th>3</th>\n",
       "      <th>4</th>\n",
       "      <th>5</th>\n",
       "      <th>6</th>\n",
       "      <th>7</th>\n",
       "      <th>8</th>\n",
       "      <th>9</th>\n",
       "      <th>...</th>\n",
       "      <th>41</th>\n",
       "      <th>42</th>\n",
       "      <th>43</th>\n",
       "      <th>44</th>\n",
       "      <th>45</th>\n",
       "      <th>46</th>\n",
       "      <th>47</th>\n",
       "      <th>48</th>\n",
       "      <th>49</th>\n",
       "      <th>50</th>\n",
       "    </tr>\n",
       "  </thead>\n",
       "  <tbody>\n",
       "    <tr>\n",
       "      <th>0</th>\n",
       "      <td>0.884144</td>\n",
       "      <td>0.577133</td>\n",
       "      <td>1.0</td>\n",
       "      <td>1.0</td>\n",
       "      <td>0.0</td>\n",
       "      <td>0.496158</td>\n",
       "      <td>0.188845</td>\n",
       "      <td>0.064088</td>\n",
       "      <td>0.982899</td>\n",
       "      <td>1.0</td>\n",
       "      <td>...</td>\n",
       "      <td>0.970903</td>\n",
       "      <td>1.0</td>\n",
       "      <td>0.0</td>\n",
       "      <td>0.946125</td>\n",
       "      <td>0.449782</td>\n",
       "      <td>0.944116</td>\n",
       "      <td>0.000073</td>\n",
       "      <td>0.0</td>\n",
       "      <td>0.0</td>\n",
       "      <td>0.0</td>\n",
       "    </tr>\n",
       "    <tr>\n",
       "      <th>1</th>\n",
       "      <td>0.891145</td>\n",
       "      <td>0.577190</td>\n",
       "      <td>1.0</td>\n",
       "      <td>1.0</td>\n",
       "      <td>0.0</td>\n",
       "      <td>0.496158</td>\n",
       "      <td>0.188845</td>\n",
       "      <td>0.064088</td>\n",
       "      <td>0.982899</td>\n",
       "      <td>1.0</td>\n",
       "      <td>...</td>\n",
       "      <td>0.970903</td>\n",
       "      <td>1.0</td>\n",
       "      <td>0.0</td>\n",
       "      <td>0.946125</td>\n",
       "      <td>0.449782</td>\n",
       "      <td>0.944521</td>\n",
       "      <td>0.000073</td>\n",
       "      <td>0.0</td>\n",
       "      <td>0.0</td>\n",
       "      <td>0.0</td>\n",
       "    </tr>\n",
       "    <tr>\n",
       "      <th>2</th>\n",
       "      <td>0.906779</td>\n",
       "      <td>0.577133</td>\n",
       "      <td>1.0</td>\n",
       "      <td>1.0</td>\n",
       "      <td>0.0</td>\n",
       "      <td>0.496158</td>\n",
       "      <td>0.186209</td>\n",
       "      <td>0.064088</td>\n",
       "      <td>0.981663</td>\n",
       "      <td>1.0</td>\n",
       "      <td>...</td>\n",
       "      <td>0.973530</td>\n",
       "      <td>1.0</td>\n",
       "      <td>0.0</td>\n",
       "      <td>0.946188</td>\n",
       "      <td>0.449782</td>\n",
       "      <td>0.944521</td>\n",
       "      <td>0.000073</td>\n",
       "      <td>0.0</td>\n",
       "      <td>0.0</td>\n",
       "      <td>0.0</td>\n",
       "    </tr>\n",
       "    <tr>\n",
       "      <th>3</th>\n",
       "      <td>0.923230</td>\n",
       "      <td>0.577302</td>\n",
       "      <td>1.0</td>\n",
       "      <td>1.0</td>\n",
       "      <td>0.0</td>\n",
       "      <td>0.496158</td>\n",
       "      <td>0.186209</td>\n",
       "      <td>0.064088</td>\n",
       "      <td>0.981663</td>\n",
       "      <td>1.0</td>\n",
       "      <td>...</td>\n",
       "      <td>0.973530</td>\n",
       "      <td>1.0</td>\n",
       "      <td>0.0</td>\n",
       "      <td>0.946188</td>\n",
       "      <td>0.449782</td>\n",
       "      <td>0.944197</td>\n",
       "      <td>0.000073</td>\n",
       "      <td>0.0</td>\n",
       "      <td>0.0</td>\n",
       "      <td>0.0</td>\n",
       "    </tr>\n",
       "    <tr>\n",
       "      <th>4</th>\n",
       "      <td>0.935947</td>\n",
       "      <td>0.578034</td>\n",
       "      <td>1.0</td>\n",
       "      <td>1.0</td>\n",
       "      <td>0.0</td>\n",
       "      <td>0.496158</td>\n",
       "      <td>0.186209</td>\n",
       "      <td>0.064088</td>\n",
       "      <td>0.981972</td>\n",
       "      <td>1.0</td>\n",
       "      <td>...</td>\n",
       "      <td>0.973530</td>\n",
       "      <td>1.0</td>\n",
       "      <td>0.0</td>\n",
       "      <td>0.946188</td>\n",
       "      <td>0.449782</td>\n",
       "      <td>0.943629</td>\n",
       "      <td>0.000073</td>\n",
       "      <td>0.0</td>\n",
       "      <td>0.0</td>\n",
       "      <td>0.0</td>\n",
       "    </tr>\n",
       "    <tr>\n",
       "      <th>...</th>\n",
       "      <td>...</td>\n",
       "      <td>...</td>\n",
       "      <td>...</td>\n",
       "      <td>...</td>\n",
       "      <td>...</td>\n",
       "      <td>...</td>\n",
       "      <td>...</td>\n",
       "      <td>...</td>\n",
       "      <td>...</td>\n",
       "      <td>...</td>\n",
       "      <td>...</td>\n",
       "      <td>...</td>\n",
       "      <td>...</td>\n",
       "      <td>...</td>\n",
       "      <td>...</td>\n",
       "      <td>...</td>\n",
       "      <td>...</td>\n",
       "      <td>...</td>\n",
       "      <td>...</td>\n",
       "      <td>...</td>\n",
       "      <td>...</td>\n",
       "    </tr>\n",
       "    <tr>\n",
       "      <th>63</th>\n",
       "      <td>0.956481</td>\n",
       "      <td>0.580569</td>\n",
       "      <td>1.0</td>\n",
       "      <td>1.0</td>\n",
       "      <td>0.0</td>\n",
       "      <td>0.496158</td>\n",
       "      <td>0.179622</td>\n",
       "      <td>0.062983</td>\n",
       "      <td>0.980787</td>\n",
       "      <td>1.0</td>\n",
       "      <td>...</td>\n",
       "      <td>0.967064</td>\n",
       "      <td>1.0</td>\n",
       "      <td>0.0</td>\n",
       "      <td>0.948631</td>\n",
       "      <td>0.449782</td>\n",
       "      <td>0.946874</td>\n",
       "      <td>0.000073</td>\n",
       "      <td>0.0</td>\n",
       "      <td>0.0</td>\n",
       "      <td>0.0</td>\n",
       "    </tr>\n",
       "    <tr>\n",
       "      <th>64</th>\n",
       "      <td>0.954614</td>\n",
       "      <td>0.579949</td>\n",
       "      <td>1.0</td>\n",
       "      <td>1.0</td>\n",
       "      <td>0.0</td>\n",
       "      <td>0.496158</td>\n",
       "      <td>0.179622</td>\n",
       "      <td>0.062983</td>\n",
       "      <td>0.980787</td>\n",
       "      <td>1.0</td>\n",
       "      <td>...</td>\n",
       "      <td>0.967064</td>\n",
       "      <td>1.0</td>\n",
       "      <td>0.0</td>\n",
       "      <td>0.948631</td>\n",
       "      <td>0.449782</td>\n",
       "      <td>0.946874</td>\n",
       "      <td>0.000073</td>\n",
       "      <td>0.0</td>\n",
       "      <td>0.0</td>\n",
       "      <td>0.0</td>\n",
       "    </tr>\n",
       "    <tr>\n",
       "      <th>65</th>\n",
       "      <td>0.950997</td>\n",
       "      <td>0.579442</td>\n",
       "      <td>1.0</td>\n",
       "      <td>1.0</td>\n",
       "      <td>0.0</td>\n",
       "      <td>0.496158</td>\n",
       "      <td>0.179622</td>\n",
       "      <td>0.062983</td>\n",
       "      <td>0.980941</td>\n",
       "      <td>1.0</td>\n",
       "      <td>...</td>\n",
       "      <td>0.967064</td>\n",
       "      <td>1.0</td>\n",
       "      <td>0.0</td>\n",
       "      <td>0.948631</td>\n",
       "      <td>0.449782</td>\n",
       "      <td>0.946874</td>\n",
       "      <td>0.000073</td>\n",
       "      <td>0.0</td>\n",
       "      <td>0.0</td>\n",
       "      <td>0.0</td>\n",
       "    </tr>\n",
       "    <tr>\n",
       "      <th>66</th>\n",
       "      <td>0.945397</td>\n",
       "      <td>0.578823</td>\n",
       "      <td>1.0</td>\n",
       "      <td>1.0</td>\n",
       "      <td>0.0</td>\n",
       "      <td>0.496158</td>\n",
       "      <td>0.179622</td>\n",
       "      <td>0.062983</td>\n",
       "      <td>0.981302</td>\n",
       "      <td>1.0</td>\n",
       "      <td>...</td>\n",
       "      <td>0.967064</td>\n",
       "      <td>1.0</td>\n",
       "      <td>0.0</td>\n",
       "      <td>0.948631</td>\n",
       "      <td>0.449782</td>\n",
       "      <td>0.946874</td>\n",
       "      <td>0.000073</td>\n",
       "      <td>0.0</td>\n",
       "      <td>0.0</td>\n",
       "      <td>0.0</td>\n",
       "    </tr>\n",
       "    <tr>\n",
       "      <th>67</th>\n",
       "      <td>0.938163</td>\n",
       "      <td>0.578710</td>\n",
       "      <td>1.0</td>\n",
       "      <td>1.0</td>\n",
       "      <td>0.0</td>\n",
       "      <td>0.496158</td>\n",
       "      <td>0.179622</td>\n",
       "      <td>0.062983</td>\n",
       "      <td>0.981302</td>\n",
       "      <td>1.0</td>\n",
       "      <td>...</td>\n",
       "      <td>0.967064</td>\n",
       "      <td>1.0</td>\n",
       "      <td>0.0</td>\n",
       "      <td>0.948631</td>\n",
       "      <td>0.449782</td>\n",
       "      <td>0.946874</td>\n",
       "      <td>0.000073</td>\n",
       "      <td>0.0</td>\n",
       "      <td>0.0</td>\n",
       "      <td>0.0</td>\n",
       "    </tr>\n",
       "  </tbody>\n",
       "</table>\n",
       "<p>68 rows × 51 columns</p>\n",
       "</div>"
      ],
      "text/plain": [
       "          0         1    2    3    4         5         6         7         8   \\\n",
       "0   0.884144  0.577133  1.0  1.0  0.0  0.496158  0.188845  0.064088  0.982899   \n",
       "1   0.891145  0.577190  1.0  1.0  0.0  0.496158  0.188845  0.064088  0.982899   \n",
       "2   0.906779  0.577133  1.0  1.0  0.0  0.496158  0.186209  0.064088  0.981663   \n",
       "3   0.923230  0.577302  1.0  1.0  0.0  0.496158  0.186209  0.064088  0.981663   \n",
       "4   0.935947  0.578034  1.0  1.0  0.0  0.496158  0.186209  0.064088  0.981972   \n",
       "..       ...       ...  ...  ...  ...       ...       ...       ...       ...   \n",
       "63  0.956481  0.580569  1.0  1.0  0.0  0.496158  0.179622  0.062983  0.980787   \n",
       "64  0.954614  0.579949  1.0  1.0  0.0  0.496158  0.179622  0.062983  0.980787   \n",
       "65  0.950997  0.579442  1.0  1.0  0.0  0.496158  0.179622  0.062983  0.980941   \n",
       "66  0.945397  0.578823  1.0  1.0  0.0  0.496158  0.179622  0.062983  0.981302   \n",
       "67  0.938163  0.578710  1.0  1.0  0.0  0.496158  0.179622  0.062983  0.981302   \n",
       "\n",
       "     9   ...        41   42   43        44        45        46        47   48  \\\n",
       "0   1.0  ...  0.970903  1.0  0.0  0.946125  0.449782  0.944116  0.000073  0.0   \n",
       "1   1.0  ...  0.970903  1.0  0.0  0.946125  0.449782  0.944521  0.000073  0.0   \n",
       "2   1.0  ...  0.973530  1.0  0.0  0.946188  0.449782  0.944521  0.000073  0.0   \n",
       "3   1.0  ...  0.973530  1.0  0.0  0.946188  0.449782  0.944197  0.000073  0.0   \n",
       "4   1.0  ...  0.973530  1.0  0.0  0.946188  0.449782  0.943629  0.000073  0.0   \n",
       "..  ...  ...       ...  ...  ...       ...       ...       ...       ...  ...   \n",
       "63  1.0  ...  0.967064  1.0  0.0  0.948631  0.449782  0.946874  0.000073  0.0   \n",
       "64  1.0  ...  0.967064  1.0  0.0  0.948631  0.449782  0.946874  0.000073  0.0   \n",
       "65  1.0  ...  0.967064  1.0  0.0  0.948631  0.449782  0.946874  0.000073  0.0   \n",
       "66  1.0  ...  0.967064  1.0  0.0  0.948631  0.449782  0.946874  0.000073  0.0   \n",
       "67  1.0  ...  0.967064  1.0  0.0  0.948631  0.449782  0.946874  0.000073  0.0   \n",
       "\n",
       "     49   50  \n",
       "0   0.0  0.0  \n",
       "1   0.0  0.0  \n",
       "2   0.0  0.0  \n",
       "3   0.0  0.0  \n",
       "4   0.0  0.0  \n",
       "..  ...  ...  \n",
       "63  0.0  0.0  \n",
       "64  0.0  0.0  \n",
       "65  0.0  0.0  \n",
       "66  0.0  0.0  \n",
       "67  0.0  0.0  \n",
       "\n",
       "[68 rows x 51 columns]"
      ]
     },
     "execution_count": 11,
     "metadata": {},
     "output_type": "execute_result"
    }
   ],
   "source": [
    "attack.head(68)"
   ]
  },
  {
   "cell_type": "code",
   "execution_count": 12,
   "id": "97ebed07",
   "metadata": {},
   "outputs": [
    {
     "data": {
      "text/html": [
       "<div>\n",
       "<style scoped>\n",
       "    .dataframe tbody tr th:only-of-type {\n",
       "        vertical-align: middle;\n",
       "    }\n",
       "\n",
       "    .dataframe tbody tr th {\n",
       "        vertical-align: top;\n",
       "    }\n",
       "\n",
       "    .dataframe thead th {\n",
       "        text-align: right;\n",
       "    }\n",
       "</style>\n",
       "<table border=\"1\" class=\"dataframe\">\n",
       "  <thead>\n",
       "    <tr style=\"text-align: right;\">\n",
       "      <th></th>\n",
       "      <th>0</th>\n",
       "      <th>1</th>\n",
       "      <th>2</th>\n",
       "      <th>3</th>\n",
       "      <th>4</th>\n",
       "      <th>5</th>\n",
       "      <th>6</th>\n",
       "      <th>7</th>\n",
       "      <th>8</th>\n",
       "      <th>9</th>\n",
       "      <th>...</th>\n",
       "      <th>41</th>\n",
       "      <th>42</th>\n",
       "      <th>43</th>\n",
       "      <th>44</th>\n",
       "      <th>45</th>\n",
       "      <th>46</th>\n",
       "      <th>47</th>\n",
       "      <th>48</th>\n",
       "      <th>49</th>\n",
       "      <th>50</th>\n",
       "    </tr>\n",
       "  </thead>\n",
       "  <tbody>\n",
       "  </tbody>\n",
       "</table>\n",
       "<p>0 rows × 51 columns</p>\n",
       "</div>"
      ],
      "text/plain": [
       "Empty DataFrame\n",
       "Columns: [0, 1, 2, 3, 4, 5, 6, 7, 8, 9, 10, 11, 12, 13, 14, 15, 16, 17, 18, 19, 20, 21, 22, 23, 24, 25, 26, 27, 28, 29, 30, 31, 32, 33, 34, 35, 36, 37, 38, 39, 40, 41, 42, 43, 44, 45, 46, 47, 48, 49, 50]\n",
       "Index: []\n",
       "\n",
       "[0 rows x 51 columns]"
      ]
     },
     "execution_count": 12,
     "metadata": {},
     "output_type": "execute_result"
    }
   ],
   "source": [
    "# no null values\n",
    "attack[attack.isna().any(axis=1)]"
   ]
  },
  {
   "cell_type": "code",
   "execution_count": 13,
   "id": "b5a59dfe",
   "metadata": {},
   "outputs": [],
   "source": [
    "window_size = 12"
   ]
  },
  {
   "cell_type": "code",
   "execution_count": 14,
   "id": "67f2a4d6",
   "metadata": {},
   "outputs": [
    {
     "data": {
      "text/plain": [
       "(494988, 12, 51)"
      ]
     },
     "execution_count": 14,
     "metadata": {},
     "output_type": "execute_result"
    }
   ],
   "source": [
    "windows_normal = normal.values[np.arange(window_size)[None, :] + np.arange(normal.shape[0] - window_size)[:, None]]\n",
    "windows_normal.shape"
   ]
  },
  {
   "cell_type": "code",
   "execution_count": 15,
   "id": "f7438ae0",
   "metadata": {},
   "outputs": [
    {
     "data": {
      "text/plain": [
       "(449907, 12, 51)"
      ]
     },
     "execution_count": 15,
     "metadata": {},
     "output_type": "execute_result"
    }
   ],
   "source": [
    "windows_attack = attack.values[np.arange(window_size)[None, :] + np.arange(attack.shape[0] - window_size)[:, None]]\n",
    "windows_attack.shape"
   ]
  },
  {
   "cell_type": "code",
   "execution_count": null,
   "id": "c6a35975",
   "metadata": {},
   "outputs": [],
   "source": [
    "w_size = windows_normal.shape[1] * windows_normal.shape[2]\n",
    "z_size = 40 * windows_normal.shape[1]"
   ]
  },
  {
   "cell_type": "code",
   "execution_count": 17,
   "id": "a84a5f60",
   "metadata": {},
   "outputs": [],
   "source": [
    "model = Usad(w_size, z_size).to(device)"
   ]
  },
  {
   "cell_type": "markdown",
   "id": "ef7bf7a5",
   "metadata": {},
   "source": [
    "## Dataloader"
   ]
  },
  {
   "cell_type": "code",
   "execution_count": null,
   "id": "14236044",
   "metadata": {},
   "outputs": [],
   "source": [
    "batch_size = 64\n",
    "# batch_size = 7919"
   ]
  },
  {
   "cell_type": "code",
   "execution_count": 19,
   "id": "0c59d198",
   "metadata": {},
   "outputs": [],
   "source": [
    "train_size = 0.8\n",
    "val_size = 0.2\n",
    "\n",
    "# val_size = 0.7\n",
    "# test_size = 0.3"
   ]
  },
  {
   "cell_type": "code",
   "execution_count": 20,
   "id": "ea4e195f",
   "metadata": {},
   "outputs": [],
   "source": [
    "windows_normal = windows_normal.reshape((windows_normal.shape[0], -1))\n",
    "windows_attack = windows_attack.reshape((windows_attack.shape[0], -1))"
   ]
  },
  {
   "cell_type": "code",
   "execution_count": null,
   "id": "9bbed67e",
   "metadata": {},
   "outputs": [],
   "source": [
    "train_dataset, val_dataset = torch.utils.data.random_split(windows_normal, [train_size, val_size])\n",
    "# val_dataset, test_dataset = torch.utils.data.random_split(windows_attack, [val_size, test_size])\n",
    "test_dataset = windows_attack\n",
    "\n",
    "train_dataloader = DataLoader(\n",
    "    windows_normal,\n",
    "    batch_size=batch_size,\n",
    "    shuffle=True\n",
    ")\n",
    "\n",
    "val_dataloader = DataLoader(\n",
    "    val_dataset,\n",
    "    batch_size=batch_size,\n",
    "    shuffle=False\n",
    ")\n",
    "\n",
    "test_dataloader = DataLoader(\n",
    "    test_dataset,\n",
    "    batch_size=batch_size,\n",
    "    shuffle=False\n",
    ")\n",
    "\n",
    "\n",
    "\n",
    "\n",
    "# windows_normal_train = windows_normal[:int(np.floor(.8 *  windows_normal.shape[0]))]\n",
    "# windows_normal_val = windows_normal[int(np.floor(.8 *  windows_normal.shape[0])):int(np.floor(windows_normal.shape[0]))]\n",
    "\n",
    "# train_dataloader = torch.utils.data.DataLoader(torch.utils.data.TensorDataset(\n",
    "#     torch.from_numpy(windows_normal_train).float().view(([windows_normal_train.shape[0],w_size]))\n",
    "# ) , batch_size=batch_size, shuffle=False, num_workers=0)\n",
    "\n",
    "# val_dataloader = torch.utils.data.DataLoader(torch.utils.data.TensorDataset(\n",
    "#     torch.from_numpy(windows_normal_val).float().view(([windows_normal_val.shape[0],w_size]))\n",
    "# ) , batch_size=batch_size, shuffle=False, num_workers=0)"
   ]
  },
  {
   "cell_type": "code",
   "execution_count": 22,
   "id": "b5e7026c",
   "metadata": {},
   "outputs": [
    {
     "data": {
      "text/plain": [
       "torch.Size([64, 612])"
      ]
     },
     "execution_count": 22,
     "metadata": {},
     "output_type": "execute_result"
    }
   ],
   "source": [
    "next(iter(train_dataloader)).shape"
   ]
  },
  {
   "cell_type": "code",
   "execution_count": 23,
   "id": "345ac6fd",
   "metadata": {},
   "outputs": [],
   "source": [
    "optimizer1 = torch.optim.Adam(list(model.encoder.parameters()) + list(model.decoder1.parameters()), lr=0.001)\n",
    "optimizer2 = torch.optim.Adam(list(model.encoder.parameters()) + list(model.decoder2.parameters()), lr=0.001)"
   ]
  },
  {
   "cell_type": "code",
   "execution_count": 24,
   "id": "f7089521",
   "metadata": {},
   "outputs": [],
   "source": [
    "def training_step(model, train_dataloader, optimizer1, optimizer2, device, epoch):\n",
    "    model.train()\n",
    "    running_loss = np.array([0.0, 0.0])\n",
    "    batch_bar = tqdm(total=len(train_dataloader), dynamic_ncols=True, leave=False, position=0, desc='Train')\n",
    "\n",
    "    for iter_id, batch in enumerate(train_dataloader):\n",
    "        batch = batch.to(dtype=torch.float32, device=device)\n",
    "\n",
    "        (loss_AE1, loss_AE2) = model.training_phase(batch, epoch + 1)\n",
    "        loss_AE1.backward()\n",
    "        optimizer1.step()\n",
    "        optimizer1.zero_grad()\n",
    "\n",
    "        (loss_AE1, loss_AE2) = model.training_phase(batch, epoch + 1)\n",
    "        loss_AE2.backward()\n",
    "        optimizer2.step()\n",
    "        optimizer2.zero_grad()\n",
    "        \n",
    "        running_loss[0] += loss_AE1.item()\n",
    "        running_loss[1] += loss_AE2.item()\n",
    "\n",
    "        batch_bar.set_postfix(\n",
    "            loss_AE1=\"{:.04f}\".format(running_loss[0] / (iter_id + 1)),\n",
    "            loss_AE2=\"{:.04f}\".format(running_loss[1] / (iter_id + 1))\n",
    "        )\n",
    "        batch_bar.update()\n",
    "\n",
    "    batch_bar.close()\n",
    "    return running_loss / len(train_dataloader)"
   ]
  },
  {
   "cell_type": "code",
   "execution_count": 25,
   "id": "ab3c3573",
   "metadata": {},
   "outputs": [],
   "source": [
    "def val_on_normal_dataset(model, val_dataloader, epoch, device):\n",
    "    model.eval()\n",
    "    AD_scores = []\n",
    "    with torch.no_grad():\n",
    "        for iter_id, batch in enumerate(val_dataloader):\n",
    "            batch = batch.to(dtype=torch.float32, device=device)\n",
    "            loss = model.training_phase(batch, epoch + 1)\n",
    "            loss = [x.item() for x in loss]\n",
    "            AD_scores.append(loss)\n",
    "    AD_scores = np.array(AD_scores)\n",
    "\n",
    "    return np.mean(AD_scores, axis=0)\n",
    "    # return AD_scores / len(val_dataloader)"
   ]
  },
  {
   "cell_type": "code",
   "execution_count": null,
   "id": "68af9198",
   "metadata": {},
   "outputs": [],
   "source": []
  },
  {
   "cell_type": "code",
   "execution_count": 26,
   "id": "3aafd527",
   "metadata": {},
   "outputs": [],
   "source": [
    "# val_on_normal_dataset(model, val_dataloader, 2, device)"
   ]
  },
  {
   "cell_type": "code",
   "execution_count": 27,
   "id": "410a3888",
   "metadata": {},
   "outputs": [],
   "source": [
    "alpha = 0.5\n",
    "beta = 1.0 - alpha"
   ]
  },
  {
   "cell_type": "code",
   "execution_count": 28,
   "id": "d9dbc112",
   "metadata": {},
   "outputs": [],
   "source": [
    "def validation_step(model, val_dataloader):\n",
    "    model.eval()\n",
    "    AD_scores = []\n",
    "    with torch.no_grad():\n",
    "        for iter_id, batch in enumerate(val_dataloader):\n",
    "            batch = batch.to(dtype=torch.float32, device=device)\n",
    "            for x in batch:\n",
    "                AD_score = model.testing_phase(batch, alpha, beta)\n",
    "                print(AD_score)\n",
    "                AD_scores.append(AD_score)\n",
    "    \n",
    "    return AD_scores"
   ]
  },
  {
   "cell_type": "code",
   "execution_count": null,
   "id": "0feaf46b",
   "metadata": {},
   "outputs": [
    {
     "name": "stderr",
     "output_type": "stream",
     "text": [
      "                                                                                             \r"
     ]
    },
    {
     "name": "stdout",
     "output_type": "stream",
     "text": [
      "epoch: 0, train_loss_AE1: 0.0016870785392434791, train_loss_AE2: 0.0016153694754622938\n",
      "val_loss_1: 0.00044307897601706476, val_loss_2: 0.00041652563934903124\n"
     ]
    },
    {
     "name": "stderr",
     "output_type": "stream",
     "text": [
      "                                                                                              \r"
     ]
    },
    {
     "name": "stdout",
     "output_type": "stream",
     "text": [
      "epoch: 1, train_loss_AE1: 0.0022054146499345625, train_loss_AE2: -0.001018624158735139\n",
      "val_loss_1: 0.00124581882897337, val_loss_2: -0.00041097416637288366\n"
     ]
    },
    {
     "name": "stderr",
     "output_type": "stream",
     "text": [
      "                                                                                              \r"
     ]
    },
    {
     "name": "stdout",
     "output_type": "stream",
     "text": [
      "epoch: 2, train_loss_AE1: 0.0032535888381442627, train_loss_AE2: -0.0022227194899765075\n",
      "val_loss_1: 0.002658634335526555, val_loss_2: -0.0018333347468969846\n"
     ]
    },
    {
     "name": "stderr",
     "output_type": "stream",
     "text": [
      "                                                                                              \r"
     ]
    },
    {
     "name": "stdout",
     "output_type": "stream",
     "text": [
      "epoch: 3, train_loss_AE1: 0.008666973577144977, train_loss_AE2: -0.006892528310153241\n",
      "val_loss_1: 0.00308027884591962, val_loss_2: -0.0022538677194702387\n"
     ]
    },
    {
     "name": "stderr",
     "output_type": "stream",
     "text": [
      "                                                                                              \r"
     ]
    },
    {
     "name": "stdout",
     "output_type": "stream",
     "text": [
      "epoch: 4, train_loss_AE1: 0.0314920947237275, train_loss_AE2: -0.028384706601602853\n",
      "val_loss_1: 0.004932983009489018, val_loss_2: -0.004036030063854739\n"
     ]
    },
    {
     "name": "stderr",
     "output_type": "stream",
     "text": [
      "                                                                                              \r"
     ]
    },
    {
     "name": "stdout",
     "output_type": "stream",
     "text": [
      "epoch: 5, train_loss_AE1: 0.04016450570665093, train_loss_AE2: -0.03591947456973508\n",
      "val_loss_1: 0.03831132837290061, val_loss_2: -0.03510788973461795\n"
     ]
    },
    {
     "name": "stderr",
     "output_type": "stream",
     "text": [
      "                                                                                              \r"
     ]
    },
    {
     "name": "stdout",
     "output_type": "stream",
     "text": [
      "epoch: 6, train_loss_AE1: 0.07126674429087887, train_loss_AE2: -0.06681310830694402\n",
      "val_loss_1: 0.04360977576175041, val_loss_2: -0.03954256718235395\n"
     ]
    },
    {
     "name": "stderr",
     "output_type": "stream",
     "text": [
      "                                                                                              \r"
     ]
    },
    {
     "name": "stdout",
     "output_type": "stream",
     "text": [
      "epoch: 7, train_loss_AE1: 0.08334551150510214, train_loss_AE2: -0.07838770253023912\n",
      "val_loss_1: 0.12586232289700794, val_loss_2: -0.12258141745019129\n"
     ]
    },
    {
     "name": "stderr",
     "output_type": "stream",
     "text": [
      "                                                                                              \r"
     ]
    },
    {
     "name": "stdout",
     "output_type": "stream",
     "text": [
      "epoch: 8, train_loss_AE1: 0.0975051581740389, train_loss_AE2: -0.09395199840582556\n",
      "val_loss_1: 0.035795289885828245, val_loss_2: -0.03228214485588849\n"
     ]
    },
    {
     "name": "stderr",
     "output_type": "stream",
     "text": [
      "                                                                                              \r"
     ]
    },
    {
     "name": "stdout",
     "output_type": "stream",
     "text": [
      "epoch: 9, train_loss_AE1: 0.11061077548555774, train_loss_AE2: -0.10282773345651053\n",
      "val_loss_1: 0.10304810319628034, val_loss_2: -0.08709090436629965\n"
     ]
    },
    {
     "name": "stderr",
     "output_type": "stream",
     "text": [
      "                                                                                              \r"
     ]
    },
    {
     "name": "stdout",
     "output_type": "stream",
     "text": [
      "epoch: 10, train_loss_AE1: 0.11027685241134381, train_loss_AE2: -0.10125274780822247\n",
      "val_loss_1: 0.10442517138174756, val_loss_2: -0.09476224918691435\n"
     ]
    },
    {
     "name": "stderr",
     "output_type": "stream",
     "text": [
      "                                                                                              \r"
     ]
    },
    {
     "name": "stdout",
     "output_type": "stream",
     "text": [
      "epoch: 11, train_loss_AE1: 0.11619214877948579, train_loss_AE2: -0.1081133091967955\n",
      "val_loss_1: 0.1836443288563603, val_loss_2: -0.1767473862432401\n"
     ]
    },
    {
     "name": "stderr",
     "output_type": "stream",
     "text": [
      "                                                                                              \r"
     ]
    },
    {
     "name": "stdout",
     "output_type": "stream",
     "text": [
      "epoch: 12, train_loss_AE1: 0.17592690267733166, train_loss_AE2: -0.17002954310614135\n",
      "val_loss_1: 0.1067659060995118, val_loss_2: -0.09333686668813498\n"
     ]
    },
    {
     "name": "stderr",
     "output_type": "stream",
     "text": [
      "                                                                                              \r"
     ]
    },
    {
     "name": "stdout",
     "output_type": "stream",
     "text": [
      "epoch: 13, train_loss_AE1: 0.06988660439791106, train_loss_AE2: -0.05733312925500837\n",
      "val_loss_1: 0.043835045267727274, val_loss_2: -0.031752786279427826\n"
     ]
    },
    {
     "name": "stderr",
     "output_type": "stream",
     "text": [
      "                                                                                              \r"
     ]
    },
    {
     "name": "stdout",
     "output_type": "stream",
     "text": [
      "epoch: 14, train_loss_AE1: 0.03742776641209201, train_loss_AE2: -0.032314315190720574\n",
      "val_loss_1: 0.03607343987675544, val_loss_2: -0.03280051833990318\n"
     ]
    },
    {
     "name": "stderr",
     "output_type": "stream",
     "text": [
      "                                                                                              \r"
     ]
    },
    {
     "name": "stdout",
     "output_type": "stream",
     "text": [
      "epoch: 15, train_loss_AE1: 0.0358118081579747, train_loss_AE2: -0.03291076980049601\n",
      "val_loss_1: 0.0357490608019546, val_loss_2: -0.033067778802796495\n"
     ]
    },
    {
     "name": "stderr",
     "output_type": "stream",
     "text": [
      "                                                                                              \r"
     ]
    },
    {
     "name": "stdout",
     "output_type": "stream",
     "text": [
      "epoch: 16, train_loss_AE1: 0.03561539240542657, train_loss_AE2: -0.033182747583323395\n",
      "val_loss_1: 0.03553886520998395, val_loss_2: -0.033177744294983304\n"
     ]
    },
    {
     "name": "stderr",
     "output_type": "stream",
     "text": [
      "                                                                                              \r"
     ]
    },
    {
     "name": "stdout",
     "output_type": "stream",
     "text": [
      "epoch: 17, train_loss_AE1: 0.04123151674866676, train_loss_AE2: -0.038813803871369935\n",
      "val_loss_1: 0.0351744815358036, val_loss_2: -0.033005006338030815\n"
     ]
    },
    {
     "name": "stderr",
     "output_type": "stream",
     "text": [
      "                                                                                              \r"
     ]
    },
    {
     "name": "stdout",
     "output_type": "stream",
     "text": [
      "epoch: 18, train_loss_AE1: 0.0352967826205257, train_loss_AE2: -0.03322293723186294\n",
      "val_loss_1: 0.03597505974963201, val_loss_2: -0.03374442401322227\n"
     ]
    },
    {
     "name": "stderr",
     "output_type": "stream",
     "text": [
      "                                                                                              \r"
     ]
    },
    {
     "name": "stdout",
     "output_type": "stream",
     "text": [
      "epoch: 19, train_loss_AE1: 0.03566536913856469, train_loss_AE2: -0.03371809577134708\n",
      "val_loss_1: 0.03565695796838559, val_loss_2: -0.03373345837319714\n"
     ]
    },
    {
     "name": "stderr",
     "output_type": "stream",
     "text": [
      "                                                                                              \r"
     ]
    },
    {
     "name": "stdout",
     "output_type": "stream",
     "text": [
      "epoch: 20, train_loss_AE1: 0.03534146235640502, train_loss_AE2: -0.033515311740988984\n",
      "val_loss_1: 0.035543618628631195, val_loss_2: -0.03372234346269213\n"
     ]
    },
    {
     "name": "stderr",
     "output_type": "stream",
     "text": [
      "                                                                                              \r"
     ]
    },
    {
     "name": "stdout",
     "output_type": "stream",
     "text": [
      "epoch: 21, train_loss_AE1: 0.03531005776378326, train_loss_AE2: -0.033589518310065104\n",
      "val_loss_1: 0.03545896283338242, val_loss_2: -0.033724082342476015\n"
     ]
    },
    {
     "name": "stderr",
     "output_type": "stream",
     "text": [
      "                                                                                              \r"
     ]
    },
    {
     "name": "stdout",
     "output_type": "stream",
     "text": [
      "epoch: 22, train_loss_AE1: 0.03535230361218983, train_loss_AE2: -0.03371099538754361\n",
      "val_loss_1: 0.035395606575652945, val_loss_2: -0.033749812536071636\n"
     ]
    },
    {
     "name": "stderr",
     "output_type": "stream",
     "text": [
      "                                                                                              \r"
     ]
    },
    {
     "name": "stdout",
     "output_type": "stream",
     "text": [
      "epoch: 23, train_loss_AE1: 0.03546732877656268, train_loss_AE2: -0.03389667640015743\n",
      "val_loss_1: 0.03560639862826006, val_loss_2: -0.03403176799050515\n"
     ]
    },
    {
     "name": "stderr",
     "output_type": "stream",
     "text": [
      "                                                                                              \r"
     ]
    },
    {
     "name": "stdout",
     "output_type": "stream",
     "text": [
      "epoch: 24, train_loss_AE1: 0.03608606126527865, train_loss_AE2: -0.03443060032505622\n",
      "val_loss_1: 0.03414845451081693, val_loss_2: -0.031642957753667385\n"
     ]
    },
    {
     "name": "stderr",
     "output_type": "stream",
     "text": [
      "                                                                                              \r"
     ]
    },
    {
     "name": "stdout",
     "output_type": "stream",
     "text": [
      "epoch: 25, train_loss_AE1: 0.07510096357476734, train_loss_AE2: -0.07190878380044245\n",
      "val_loss_1: 0.12227713400479973, val_loss_2: -0.1172348660475297\n"
     ]
    },
    {
     "name": "stderr",
     "output_type": "stream",
     "text": [
      "                                                                                              \r"
     ]
    },
    {
     "name": "stdout",
     "output_type": "stream",
     "text": [
      "epoch: 26, train_loss_AE1: 0.12391810706433128, train_loss_AE2: -0.11892217656991215\n",
      "val_loss_1: 0.13130707143485046, val_loss_2: -0.12610314321675914\n"
     ]
    },
    {
     "name": "stderr",
     "output_type": "stream",
     "text": [
      "                                                                                              \r"
     ]
    },
    {
     "name": "stdout",
     "output_type": "stream",
     "text": [
      "epoch: 27, train_loss_AE1: 0.1301345169582749, train_loss_AE2: -0.12522084859104102\n",
      "val_loss_1: 0.12903176495623572, val_loss_2: -0.1241824543603251\n"
     ]
    },
    {
     "name": "stderr",
     "output_type": "stream",
     "text": [
      "                                                                                              \r"
     ]
    },
    {
     "name": "stdout",
     "output_type": "stream",
     "text": [
      "epoch: 28, train_loss_AE1: 0.13027527670784772, train_loss_AE2: -0.12555046170930673\n",
      "val_loss_1: 0.1327814219330462, val_loss_2: -0.1279585723847671\n"
     ]
    },
    {
     "name": "stderr",
     "output_type": "stream",
     "text": [
      "                                                                                              \r"
     ]
    },
    {
     "name": "stdout",
     "output_type": "stream",
     "text": [
      "epoch: 29, train_loss_AE1: 0.09423607663909465, train_loss_AE2: -0.09054458261369387\n",
      "val_loss_1: 0.03624352698383519, val_loss_2: -0.03466701242921039\n"
     ]
    }
   ],
   "source": [
    "running_losses = []\n",
    "val_losses = []\n",
    "\n",
    "for e in range(100):\n",
    "    running_loss = training_step(model, train_dataloader, optimizer1, optimizer2, device, e)\n",
    "    running_losses.append(running_loss)\n",
    "    print(f\"epoch: {e}, train_loss_AE1: {running_loss[0]}, train_loss_AE2: {running_loss[1]}\")\n",
    "    val_scores = val_on_normal_dataset(model, val_dataloader, e, device)\n",
    "    val_losses.append(val_scores)\n",
    "    print(f\"val_loss_1: {val_scores[0]}, val_loss_2: {val_scores[1]}\")"
   ]
  },
  {
   "cell_type": "markdown",
   "id": "f8c4aaeb",
   "metadata": {},
   "source": []
  },
  {
   "cell_type": "code",
   "execution_count": 30,
   "id": "a3d8f154",
   "metadata": {},
   "outputs": [],
   "source": [
    "# next(iter(test_dataloader)).shape"
   ]
  },
  {
   "cell_type": "code",
   "execution_count": 31,
   "id": "4d29008f",
   "metadata": {},
   "outputs": [],
   "source": [
    "# iter = iter(test_dataloader)"
   ]
  },
  {
   "cell_type": "code",
   "execution_count": 32,
   "id": "abfffaa2",
   "metadata": {},
   "outputs": [],
   "source": [
    "# one_window = next(iter(test_dataloader))"
   ]
  },
  {
   "cell_type": "code",
   "execution_count": 33,
   "id": "7554f01c",
   "metadata": {},
   "outputs": [],
   "source": [
    "# print(one_window)     # this is the FIRST WINDOW in attack dataset"
   ]
  },
  {
   "cell_type": "code",
   "execution_count": null,
   "id": "969ebd82",
   "metadata": {},
   "outputs": [],
   "source": [
    "# def test_one_window(model, window):\n",
    "#     model.eval()\n",
    "#     with torch.no_grad():\n",
    "#         window = window.to(dtype=torch.float32, device=device)\n",
    "#         AD_score = model.testing_phase(window, alpha, beta)\n",
    "#         return AD_score\n",
    "#     return"
   ]
  },
  {
   "cell_type": "code",
   "execution_count": null,
   "id": "14a67bc4",
   "metadata": {},
   "outputs": [],
   "source": [
    "# output = test_one_window(model, one_window)"
   ]
  },
  {
   "cell_type": "code",
   "execution_count": null,
   "id": "3ae86788",
   "metadata": {},
   "outputs": [
    {
     "name": "stdout",
     "output_type": "stream",
     "text": [
      "tensor(0.0124, device='cuda:0')\n"
     ]
    }
   ],
   "source": [
    "# print(output)"
   ]
  },
  {
   "cell_type": "code",
   "execution_count": 36,
   "id": "a0bb7d62",
   "metadata": {},
   "outputs": [],
   "source": [
    "def validation_step(model, val_dataloader):\n",
    "    model.eval()\n",
    "    AD_scores = []\n",
    "    with torch.no_grad():\n",
    "        for iter_id, batch in enumerate(val_dataloader):\n",
    "            batch = batch.to(dtype=torch.float32, device=device)\n",
    "            for window in batch:\n",
    "                AD_score = model.testing_phase(window, alpha, beta)\n",
    "                # print(AD_score)\n",
    "                AD_scores.append(AD_score)\n",
    "    \n",
    "    return AD_scores"
   ]
  },
  {
   "cell_type": "code",
   "execution_count": 37,
   "id": "7f617e0a",
   "metadata": {},
   "outputs": [],
   "source": [
    "AD_scores = validation_step(model, test_dataloader)"
   ]
  },
  {
   "cell_type": "code",
   "execution_count": 1,
   "id": "c337192a",
   "metadata": {},
   "outputs": [],
   "source": [
    "# AD_scores[443423:443458]"
   ]
  },
  {
   "cell_type": "code",
   "execution_count": null,
   "id": "d51b5bfe",
   "metadata": {},
   "outputs": [],
   "source": []
  },
  {
   "cell_type": "code",
   "execution_count": null,
   "id": "078d6937",
   "metadata": {},
   "outputs": [],
   "source": []
  },
  {
   "cell_type": "code",
   "execution_count": null,
   "id": "c17de8d6",
   "metadata": {},
   "outputs": [],
   "source": []
  },
  {
   "cell_type": "code",
   "execution_count": 2,
   "id": "e67cd7e6",
   "metadata": {},
   "outputs": [],
   "source": [
    "# test_scores = validation_step(model, test_dataloader)"
   ]
  },
  {
   "cell_type": "code",
   "execution_count": null,
   "id": "8fbe4705",
   "metadata": {},
   "outputs": [],
   "source": []
  },
  {
   "cell_type": "code",
   "execution_count": null,
   "id": "52ff3944",
   "metadata": {},
   "outputs": [],
   "source": []
  },
  {
   "cell_type": "code",
   "execution_count": null,
   "id": "512d52b9",
   "metadata": {},
   "outputs": [],
   "source": []
  },
  {
   "cell_type": "code",
   "execution_count": null,
   "id": "d69ee2c8",
   "metadata": {},
   "outputs": [],
   "source": []
  },
  {
   "cell_type": "code",
   "execution_count": 51,
   "id": "613a7fc8",
   "metadata": {},
   "outputs": [
    {
     "name": "stderr",
     "output_type": "stream",
     "text": [
      "C:\\Users\\alexr\\AppData\\Local\\Temp\\ipykernel_35228\\2618999078.py:1: DtypeWarning: Columns (26) have mixed types. Specify dtype option on import or set low_memory=False.\n",
      "  normal_df = pd.read_csv(\"datasets/SWaT/SWaT_Dataset_Normal_v1.csv\", sep=',')\n"
     ]
    },
    {
     "data": {
      "text/plain": [
       "(495000, 53)"
      ]
     },
     "execution_count": 51,
     "metadata": {},
     "output_type": "execute_result"
    }
   ],
   "source": [
    "normal_df = pd.read_csv(\"datasets/SWaT/SWaT_Dataset_Normal_v1.csv\", sep=',')\n",
    "normal_df.shape"
   ]
  },
  {
   "cell_type": "code",
   "execution_count": null,
   "id": "187d05a5",
   "metadata": {},
   "outputs": [
    {
     "data": {
      "text/plain": [
       "19"
      ]
     },
     "execution_count": 52,
     "metadata": {},
     "output_type": "execute_result"
    }
   ],
   "source": [
    "normal_df.columns.get_loc('LIT301')"
   ]
  },
  {
   "cell_type": "code",
   "execution_count": 53,
   "id": "236e4f04",
   "metadata": {},
   "outputs": [],
   "source": [
    "normal_df = normal_df.drop([\"Timestamp\", \"Normal/Attack\"], axis=1)\n",
    "\n",
    "# France uses commas as decimal separator; convert all columns into floats\n",
    "for i in list(normal_df):\n",
    "    normal_df[i] = normal_df[i].apply(lambda x: str(x).replace(',', '.'))\n",
    "normal_df = normal_df.astype(float)"
   ]
  },
  {
   "cell_type": "code",
   "execution_count": 59,
   "id": "ad1dc1cd",
   "metadata": {},
   "outputs": [
    {
     "name": "stdout",
     "output_type": "stream",
     "text": [
      "(495000,)\n"
     ]
    }
   ],
   "source": [
    "print(normal_df['LIT301'].shape)"
   ]
  },
  {
   "cell_type": "code",
   "execution_count": 67,
   "id": "191329a7",
   "metadata": {},
   "outputs": [
    {
     "data": {
      "text/plain": [
       "[<matplotlib.lines.Line2D at 0x2140bfcdbd0>]"
      ]
     },
     "execution_count": 67,
     "metadata": {},
     "output_type": "execute_result"
    },
    {
     "data": {
      "image/png": "[encoded data removed]",
      "text/plain": [
       "<Figure size 640x480 with 1 Axes>"
      ]
     },
     "metadata": {},
     "output_type": "display_data"
    }
   ],
   "source": [
    "plt.plot(normal_df['LIT301'][10000:80000])"
   ]
  }
 ],
 "metadata": {
  "kernelspec": {
   "display_name": "Python 3",
   "language": "python",
   "name": "python3"
  },
  "language_info": {
   "codemirror_mode": {
    "name": "ipython",
    "version": 3
   },
   "file_extension": ".py",
   "mimetype": "text/x-python",
   "name": "python",
   "nbconvert_exporter": "python",
   "pygments_lexer": "ipython3",
   "version": "3.13.5"
  }
 },
 "nbformat": 4,
 "nbformat_minor": 5
}
