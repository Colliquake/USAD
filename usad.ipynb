{
 "cells": [
  {
   "cell_type": "code",
   "execution_count": 1,
   "id": "009bb46b",
   "metadata": {},
   "outputs": [],
   "source": [
    "import numpy as np\n",
    "import pandas as pd\n",
    "import torch\n",
    "from sklearn import preprocessing\n",
    "from model import *\n",
    "from torch.utils.data import DataLoader\n",
    "import matplotlib.pyplot as plt\n",
    "from tqdm import tqdm"
   ]
  },
  {
   "cell_type": "code",
   "execution_count": 2,
   "id": "247f1be5",
   "metadata": {},
   "outputs": [
    {
     "name": "stdout",
     "output_type": "stream",
     "text": [
      "cuda\n"
     ]
    }
   ],
   "source": [
    "device = torch.device('cuda' if torch.cuda.is_available() else 'cpu')\n",
    "print(device)"
   ]
  },
  {
   "cell_type": "markdown",
   "id": "0278e264",
   "metadata": {},
   "source": [
    "## Preprocessing"
   ]
  },
  {
   "cell_type": "markdown",
   "id": "acfad9b5",
   "metadata": {},
   "source": [
    "### Normal"
   ]
  },
  {
   "cell_type": "code",
   "execution_count": 3,
   "id": "aea1699f",
   "metadata": {},
   "outputs": [
    {
     "name": "stderr",
     "output_type": "stream",
     "text": [
      "C:\\Users\\alexr\\AppData\\Local\\Temp\\ipykernel_27344\\4111822205.py:1: DtypeWarning: Columns (26) have mixed types. Specify dtype option on import or set low_memory=False.\n",
      "  normal = pd.read_csv(\"datasets/SWaT/SWaT_Dataset_Normal_v1.csv\", sep=',')\n"
     ]
    },
    {
     "data": {
      "text/plain": [
       "(495000, 51)"
      ]
     },
     "execution_count": 3,
     "metadata": {},
     "output_type": "execute_result"
    }
   ],
   "source": [
    "normal = pd.read_csv(\"datasets/SWaT/SWaT_Dataset_Normal_v1.csv\", sep=',')\n",
    "normal = normal.drop([\"Timestamp\", \"Normal/Attack\"], axis=1)\n",
    "normal.shape"
   ]
  },
  {
   "cell_type": "code",
   "execution_count": 4,
   "id": "cc6b62cc",
   "metadata": {},
   "outputs": [],
   "source": [
    "# France uses commas as decimal separator; convert all columns into floats\n",
    "for i in list(normal):\n",
    "    normal[i] = normal[i].apply(lambda x: str(x).replace(',', '.'))\n",
    "normal = normal.astype(float)"
   ]
  },
  {
   "cell_type": "code",
   "execution_count": 5,
   "id": "b7e36bb7",
   "metadata": {},
   "outputs": [],
   "source": [
    "minmax_scaler = preprocessing.MinMaxScaler()\n",
    "\n",
    "scaled = minmax_scaler.fit_transform(normal)\n",
    "normal = pd.DataFrame(scaled)"
   ]
  },
  {
   "cell_type": "code",
   "execution_count": 6,
   "id": "534f0aba",
   "metadata": {},
   "outputs": [
    {
     "data": {
      "text/html": [
       "<div>\n",
       "<style scoped>\n",
       "    .dataframe tbody tr th:only-of-type {\n",
       "        vertical-align: middle;\n",
       "    }\n",
       "\n",
       "    .dataframe tbody tr th {\n",
       "        vertical-align: top;\n",
       "    }\n",
       "\n",
       "    .dataframe thead th {\n",
       "        text-align: right;\n",
       "    }\n",
       "</style>\n",
       "<table border=\"1\" class=\"dataframe\">\n",
       "  <thead>\n",
       "    <tr style=\"text-align: right;\">\n",
       "      <th></th>\n",
       "      <th>0</th>\n",
       "      <th>1</th>\n",
       "      <th>2</th>\n",
       "      <th>3</th>\n",
       "      <th>4</th>\n",
       "      <th>5</th>\n",
       "      <th>6</th>\n",
       "      <th>7</th>\n",
       "      <th>8</th>\n",
       "      <th>9</th>\n",
       "      <th>...</th>\n",
       "      <th>41</th>\n",
       "      <th>42</th>\n",
       "      <th>43</th>\n",
       "      <th>44</th>\n",
       "      <th>45</th>\n",
       "      <th>46</th>\n",
       "      <th>47</th>\n",
       "      <th>48</th>\n",
       "      <th>49</th>\n",
       "      <th>50</th>\n",
       "    </tr>\n",
       "  </thead>\n",
       "  <tbody>\n",
       "    <tr>\n",
       "      <th>0</th>\n",
       "      <td>0.0</td>\n",
       "      <td>0.005294</td>\n",
       "      <td>0.5</td>\n",
       "      <td>0.0</td>\n",
       "      <td>0.0</td>\n",
       "      <td>0.012291</td>\n",
       "      <td>0.075099</td>\n",
       "      <td>0.002009</td>\n",
       "      <td>0.0</td>\n",
       "      <td>0.5</td>\n",
       "      <td>...</td>\n",
       "      <td>0.0</td>\n",
       "      <td>0.0</td>\n",
       "      <td>0.0</td>\n",
       "      <td>0.000814</td>\n",
       "      <td>0.0</td>\n",
       "      <td>0.001217</td>\n",
       "      <td>0.000147</td>\n",
       "      <td>0.0</td>\n",
       "      <td>0.0</td>\n",
       "      <td>0.0</td>\n",
       "    </tr>\n",
       "    <tr>\n",
       "      <th>1</th>\n",
       "      <td>0.0</td>\n",
       "      <td>0.005407</td>\n",
       "      <td>0.5</td>\n",
       "      <td>0.0</td>\n",
       "      <td>0.0</td>\n",
       "      <td>0.012291</td>\n",
       "      <td>0.075099</td>\n",
       "      <td>0.002009</td>\n",
       "      <td>0.0</td>\n",
       "      <td>0.5</td>\n",
       "      <td>...</td>\n",
       "      <td>0.0</td>\n",
       "      <td>0.0</td>\n",
       "      <td>0.0</td>\n",
       "      <td>0.000814</td>\n",
       "      <td>0.0</td>\n",
       "      <td>0.001217</td>\n",
       "      <td>0.000147</td>\n",
       "      <td>0.0</td>\n",
       "      <td>0.0</td>\n",
       "      <td>0.0</td>\n",
       "    </tr>\n",
       "    <tr>\n",
       "      <th>2</th>\n",
       "      <td>0.0</td>\n",
       "      <td>0.005520</td>\n",
       "      <td>0.5</td>\n",
       "      <td>0.0</td>\n",
       "      <td>0.0</td>\n",
       "      <td>0.012291</td>\n",
       "      <td>0.075099</td>\n",
       "      <td>0.002009</td>\n",
       "      <td>0.0</td>\n",
       "      <td>0.5</td>\n",
       "      <td>...</td>\n",
       "      <td>0.0</td>\n",
       "      <td>0.0</td>\n",
       "      <td>0.0</td>\n",
       "      <td>0.000814</td>\n",
       "      <td>0.0</td>\n",
       "      <td>0.001217</td>\n",
       "      <td>0.000147</td>\n",
       "      <td>0.0</td>\n",
       "      <td>0.0</td>\n",
       "      <td>0.0</td>\n",
       "    </tr>\n",
       "    <tr>\n",
       "      <th>3</th>\n",
       "      <td>0.0</td>\n",
       "      <td>0.005801</td>\n",
       "      <td>0.5</td>\n",
       "      <td>0.0</td>\n",
       "      <td>0.0</td>\n",
       "      <td>0.012291</td>\n",
       "      <td>0.075099</td>\n",
       "      <td>0.002009</td>\n",
       "      <td>0.0</td>\n",
       "      <td>0.5</td>\n",
       "      <td>...</td>\n",
       "      <td>0.0</td>\n",
       "      <td>0.0</td>\n",
       "      <td>0.0</td>\n",
       "      <td>0.000814</td>\n",
       "      <td>0.0</td>\n",
       "      <td>0.001217</td>\n",
       "      <td>0.000147</td>\n",
       "      <td>0.0</td>\n",
       "      <td>0.0</td>\n",
       "      <td>0.0</td>\n",
       "    </tr>\n",
       "    <tr>\n",
       "      <th>4</th>\n",
       "      <td>0.0</td>\n",
       "      <td>0.005576</td>\n",
       "      <td>0.5</td>\n",
       "      <td>0.0</td>\n",
       "      <td>0.0</td>\n",
       "      <td>0.012291</td>\n",
       "      <td>0.075099</td>\n",
       "      <td>0.002009</td>\n",
       "      <td>0.0</td>\n",
       "      <td>0.5</td>\n",
       "      <td>...</td>\n",
       "      <td>0.0</td>\n",
       "      <td>0.0</td>\n",
       "      <td>0.0</td>\n",
       "      <td>0.000814</td>\n",
       "      <td>0.0</td>\n",
       "      <td>0.001217</td>\n",
       "      <td>0.000147</td>\n",
       "      <td>0.0</td>\n",
       "      <td>0.0</td>\n",
       "      <td>0.0</td>\n",
       "    </tr>\n",
       "  </tbody>\n",
       "</table>\n",
       "<p>5 rows × 51 columns</p>\n",
       "</div>"
      ],
      "text/plain": [
       "    0         1    2    3    4         5         6         7    8    9   ...  \\\n",
       "0  0.0  0.005294  0.5  0.0  0.0  0.012291  0.075099  0.002009  0.0  0.5  ...   \n",
       "1  0.0  0.005407  0.5  0.0  0.0  0.012291  0.075099  0.002009  0.0  0.5  ...   \n",
       "2  0.0  0.005520  0.5  0.0  0.0  0.012291  0.075099  0.002009  0.0  0.5  ...   \n",
       "3  0.0  0.005801  0.5  0.0  0.0  0.012291  0.075099  0.002009  0.0  0.5  ...   \n",
       "4  0.0  0.005576  0.5  0.0  0.0  0.012291  0.075099  0.002009  0.0  0.5  ...   \n",
       "\n",
       "    41   42   43        44   45        46        47   48   49   50  \n",
       "0  0.0  0.0  0.0  0.000814  0.0  0.001217  0.000147  0.0  0.0  0.0  \n",
       "1  0.0  0.0  0.0  0.000814  0.0  0.001217  0.000147  0.0  0.0  0.0  \n",
       "2  0.0  0.0  0.0  0.000814  0.0  0.001217  0.000147  0.0  0.0  0.0  \n",
       "3  0.0  0.0  0.0  0.000814  0.0  0.001217  0.000147  0.0  0.0  0.0  \n",
       "4  0.0  0.0  0.0  0.000814  0.0  0.001217  0.000147  0.0  0.0  0.0  \n",
       "\n",
       "[5 rows x 51 columns]"
      ]
     },
     "execution_count": 6,
     "metadata": {},
     "output_type": "execute_result"
    }
   ],
   "source": [
    "normal.head()"
   ]
  },
  {
   "cell_type": "code",
   "execution_count": 7,
   "id": "00affd0b",
   "metadata": {},
   "outputs": [
    {
     "data": {
      "text/html": [
       "<div>\n",
       "<style scoped>\n",
       "    .dataframe tbody tr th:only-of-type {\n",
       "        vertical-align: middle;\n",
       "    }\n",
       "\n",
       "    .dataframe tbody tr th {\n",
       "        vertical-align: top;\n",
       "    }\n",
       "\n",
       "    .dataframe thead th {\n",
       "        text-align: right;\n",
       "    }\n",
       "</style>\n",
       "<table border=\"1\" class=\"dataframe\">\n",
       "  <thead>\n",
       "    <tr style=\"text-align: right;\">\n",
       "      <th></th>\n",
       "      <th>0</th>\n",
       "      <th>1</th>\n",
       "      <th>2</th>\n",
       "      <th>3</th>\n",
       "      <th>4</th>\n",
       "      <th>5</th>\n",
       "      <th>6</th>\n",
       "      <th>7</th>\n",
       "      <th>8</th>\n",
       "      <th>9</th>\n",
       "      <th>...</th>\n",
       "      <th>41</th>\n",
       "      <th>42</th>\n",
       "      <th>43</th>\n",
       "      <th>44</th>\n",
       "      <th>45</th>\n",
       "      <th>46</th>\n",
       "      <th>47</th>\n",
       "      <th>48</th>\n",
       "      <th>49</th>\n",
       "      <th>50</th>\n",
       "    </tr>\n",
       "  </thead>\n",
       "  <tbody>\n",
       "  </tbody>\n",
       "</table>\n",
       "<p>0 rows × 51 columns</p>\n",
       "</div>"
      ],
      "text/plain": [
       "Empty DataFrame\n",
       "Columns: [0, 1, 2, 3, 4, 5, 6, 7, 8, 9, 10, 11, 12, 13, 14, 15, 16, 17, 18, 19, 20, 21, 22, 23, 24, 25, 26, 27, 28, 29, 30, 31, 32, 33, 34, 35, 36, 37, 38, 39, 40, 41, 42, 43, 44, 45, 46, 47, 48, 49, 50]\n",
       "Index: []\n",
       "\n",
       "[0 rows x 51 columns]"
      ]
     },
     "execution_count": 7,
     "metadata": {},
     "output_type": "execute_result"
    }
   ],
   "source": [
    "# no null values\n",
    "normal[normal.isna().any(axis=1)]"
   ]
  },
  {
   "cell_type": "markdown",
   "id": "1de25dd6",
   "metadata": {},
   "source": [
    "### Attack"
   ]
  },
  {
   "cell_type": "code",
   "execution_count": 8,
   "id": "dd06d636",
   "metadata": {},
   "outputs": [
    {
     "name": "stderr",
     "output_type": "stream",
     "text": [
      "C:\\Users\\alexr\\AppData\\Local\\Temp\\ipykernel_27344\\672767586.py:1: DtypeWarning: Columns (1,9,28,46) have mixed types. Specify dtype option on import or set low_memory=False.\n",
      "  attack = pd.read_csv(\"datasets/SWaT/SWaT_Dataset_Attack_v0.csv\", sep=';')\n"
     ]
    },
    {
     "data": {
      "text/plain": [
       "(449919, 51)"
      ]
     },
     "execution_count": 8,
     "metadata": {},
     "output_type": "execute_result"
    }
   ],
   "source": [
    "attack = pd.read_csv(\"datasets/SWaT/SWaT_Dataset_Attack_v0.csv\", sep=';')\n",
    "labels = [float(label != 'Normal') for label in attack[\"Normal/Attack\"]]\n",
    "attack = attack.drop([\"Timestamp\", \"Normal/Attack\"], axis=1)\n",
    "attack.shape"
   ]
  },
  {
   "cell_type": "code",
   "execution_count": 9,
   "id": "a4413350",
   "metadata": {},
   "outputs": [],
   "source": [
    "# France uses commas as decimal separator; convert all columns into floats\n",
    "for i in list(attack):\n",
    "    attack[i] = attack[i].apply(lambda x: str(x).replace(',', '.'))\n",
    "attack = attack.astype(float)"
   ]
  },
  {
   "cell_type": "code",
   "execution_count": 10,
   "id": "e423a420",
   "metadata": {},
   "outputs": [],
   "source": [
    "scaled = minmax_scaler.transform(attack)\n",
    "attack = pd.DataFrame(scaled)"
   ]
  },
  {
   "cell_type": "code",
   "execution_count": 11,
   "id": "2d36b602",
   "metadata": {},
   "outputs": [
    {
     "data": {
      "text/html": [
       "<div>\n",
       "<style scoped>\n",
       "    .dataframe tbody tr th:only-of-type {\n",
       "        vertical-align: middle;\n",
       "    }\n",
       "\n",
       "    .dataframe tbody tr th {\n",
       "        vertical-align: top;\n",
       "    }\n",
       "\n",
       "    .dataframe thead th {\n",
       "        text-align: right;\n",
       "    }\n",
       "</style>\n",
       "<table border=\"1\" class=\"dataframe\">\n",
       "  <thead>\n",
       "    <tr style=\"text-align: right;\">\n",
       "      <th></th>\n",
       "      <th>0</th>\n",
       "      <th>1</th>\n",
       "      <th>2</th>\n",
       "      <th>3</th>\n",
       "      <th>4</th>\n",
       "      <th>5</th>\n",
       "      <th>6</th>\n",
       "      <th>7</th>\n",
       "      <th>8</th>\n",
       "      <th>9</th>\n",
       "      <th>...</th>\n",
       "      <th>41</th>\n",
       "      <th>42</th>\n",
       "      <th>43</th>\n",
       "      <th>44</th>\n",
       "      <th>45</th>\n",
       "      <th>46</th>\n",
       "      <th>47</th>\n",
       "      <th>48</th>\n",
       "      <th>49</th>\n",
       "      <th>50</th>\n",
       "    </tr>\n",
       "  </thead>\n",
       "  <tbody>\n",
       "    <tr>\n",
       "      <th>0</th>\n",
       "      <td>0.884144</td>\n",
       "      <td>0.577133</td>\n",
       "      <td>1.0</td>\n",
       "      <td>1.0</td>\n",
       "      <td>0.0</td>\n",
       "      <td>0.496158</td>\n",
       "      <td>0.188845</td>\n",
       "      <td>0.064088</td>\n",
       "      <td>0.982899</td>\n",
       "      <td>1.0</td>\n",
       "      <td>...</td>\n",
       "      <td>0.970903</td>\n",
       "      <td>1.0</td>\n",
       "      <td>0.0</td>\n",
       "      <td>0.946125</td>\n",
       "      <td>0.449782</td>\n",
       "      <td>0.944116</td>\n",
       "      <td>0.000073</td>\n",
       "      <td>0.0</td>\n",
       "      <td>0.0</td>\n",
       "      <td>0.0</td>\n",
       "    </tr>\n",
       "    <tr>\n",
       "      <th>1</th>\n",
       "      <td>0.891145</td>\n",
       "      <td>0.577190</td>\n",
       "      <td>1.0</td>\n",
       "      <td>1.0</td>\n",
       "      <td>0.0</td>\n",
       "      <td>0.496158</td>\n",
       "      <td>0.188845</td>\n",
       "      <td>0.064088</td>\n",
       "      <td>0.982899</td>\n",
       "      <td>1.0</td>\n",
       "      <td>...</td>\n",
       "      <td>0.970903</td>\n",
       "      <td>1.0</td>\n",
       "      <td>0.0</td>\n",
       "      <td>0.946125</td>\n",
       "      <td>0.449782</td>\n",
       "      <td>0.944521</td>\n",
       "      <td>0.000073</td>\n",
       "      <td>0.0</td>\n",
       "      <td>0.0</td>\n",
       "      <td>0.0</td>\n",
       "    </tr>\n",
       "    <tr>\n",
       "      <th>2</th>\n",
       "      <td>0.906779</td>\n",
       "      <td>0.577133</td>\n",
       "      <td>1.0</td>\n",
       "      <td>1.0</td>\n",
       "      <td>0.0</td>\n",
       "      <td>0.496158</td>\n",
       "      <td>0.186209</td>\n",
       "      <td>0.064088</td>\n",
       "      <td>0.981663</td>\n",
       "      <td>1.0</td>\n",
       "      <td>...</td>\n",
       "      <td>0.973530</td>\n",
       "      <td>1.0</td>\n",
       "      <td>0.0</td>\n",
       "      <td>0.946188</td>\n",
       "      <td>0.449782</td>\n",
       "      <td>0.944521</td>\n",
       "      <td>0.000073</td>\n",
       "      <td>0.0</td>\n",
       "      <td>0.0</td>\n",
       "      <td>0.0</td>\n",
       "    </tr>\n",
       "    <tr>\n",
       "      <th>3</th>\n",
       "      <td>0.923230</td>\n",
       "      <td>0.577302</td>\n",
       "      <td>1.0</td>\n",
       "      <td>1.0</td>\n",
       "      <td>0.0</td>\n",
       "      <td>0.496158</td>\n",
       "      <td>0.186209</td>\n",
       "      <td>0.064088</td>\n",
       "      <td>0.981663</td>\n",
       "      <td>1.0</td>\n",
       "      <td>...</td>\n",
       "      <td>0.973530</td>\n",
       "      <td>1.0</td>\n",
       "      <td>0.0</td>\n",
       "      <td>0.946188</td>\n",
       "      <td>0.449782</td>\n",
       "      <td>0.944197</td>\n",
       "      <td>0.000073</td>\n",
       "      <td>0.0</td>\n",
       "      <td>0.0</td>\n",
       "      <td>0.0</td>\n",
       "    </tr>\n",
       "    <tr>\n",
       "      <th>4</th>\n",
       "      <td>0.935947</td>\n",
       "      <td>0.578034</td>\n",
       "      <td>1.0</td>\n",
       "      <td>1.0</td>\n",
       "      <td>0.0</td>\n",
       "      <td>0.496158</td>\n",
       "      <td>0.186209</td>\n",
       "      <td>0.064088</td>\n",
       "      <td>0.981972</td>\n",
       "      <td>1.0</td>\n",
       "      <td>...</td>\n",
       "      <td>0.973530</td>\n",
       "      <td>1.0</td>\n",
       "      <td>0.0</td>\n",
       "      <td>0.946188</td>\n",
       "      <td>0.449782</td>\n",
       "      <td>0.943629</td>\n",
       "      <td>0.000073</td>\n",
       "      <td>0.0</td>\n",
       "      <td>0.0</td>\n",
       "      <td>0.0</td>\n",
       "    </tr>\n",
       "    <tr>\n",
       "      <th>...</th>\n",
       "      <td>...</td>\n",
       "      <td>...</td>\n",
       "      <td>...</td>\n",
       "      <td>...</td>\n",
       "      <td>...</td>\n",
       "      <td>...</td>\n",
       "      <td>...</td>\n",
       "      <td>...</td>\n",
       "      <td>...</td>\n",
       "      <td>...</td>\n",
       "      <td>...</td>\n",
       "      <td>...</td>\n",
       "      <td>...</td>\n",
       "      <td>...</td>\n",
       "      <td>...</td>\n",
       "      <td>...</td>\n",
       "      <td>...</td>\n",
       "      <td>...</td>\n",
       "      <td>...</td>\n",
       "      <td>...</td>\n",
       "      <td>...</td>\n",
       "    </tr>\n",
       "    <tr>\n",
       "      <th>63</th>\n",
       "      <td>0.956481</td>\n",
       "      <td>0.580569</td>\n",
       "      <td>1.0</td>\n",
       "      <td>1.0</td>\n",
       "      <td>0.0</td>\n",
       "      <td>0.496158</td>\n",
       "      <td>0.179622</td>\n",
       "      <td>0.062983</td>\n",
       "      <td>0.980787</td>\n",
       "      <td>1.0</td>\n",
       "      <td>...</td>\n",
       "      <td>0.967064</td>\n",
       "      <td>1.0</td>\n",
       "      <td>0.0</td>\n",
       "      <td>0.948631</td>\n",
       "      <td>0.449782</td>\n",
       "      <td>0.946874</td>\n",
       "      <td>0.000073</td>\n",
       "      <td>0.0</td>\n",
       "      <td>0.0</td>\n",
       "      <td>0.0</td>\n",
       "    </tr>\n",
       "    <tr>\n",
       "      <th>64</th>\n",
       "      <td>0.954614</td>\n",
       "      <td>0.579949</td>\n",
       "      <td>1.0</td>\n",
       "      <td>1.0</td>\n",
       "      <td>0.0</td>\n",
       "      <td>0.496158</td>\n",
       "      <td>0.179622</td>\n",
       "      <td>0.062983</td>\n",
       "      <td>0.980787</td>\n",
       "      <td>1.0</td>\n",
       "      <td>...</td>\n",
       "      <td>0.967064</td>\n",
       "      <td>1.0</td>\n",
       "      <td>0.0</td>\n",
       "      <td>0.948631</td>\n",
       "      <td>0.449782</td>\n",
       "      <td>0.946874</td>\n",
       "      <td>0.000073</td>\n",
       "      <td>0.0</td>\n",
       "      <td>0.0</td>\n",
       "      <td>0.0</td>\n",
       "    </tr>\n",
       "    <tr>\n",
       "      <th>65</th>\n",
       "      <td>0.950997</td>\n",
       "      <td>0.579442</td>\n",
       "      <td>1.0</td>\n",
       "      <td>1.0</td>\n",
       "      <td>0.0</td>\n",
       "      <td>0.496158</td>\n",
       "      <td>0.179622</td>\n",
       "      <td>0.062983</td>\n",
       "      <td>0.980941</td>\n",
       "      <td>1.0</td>\n",
       "      <td>...</td>\n",
       "      <td>0.967064</td>\n",
       "      <td>1.0</td>\n",
       "      <td>0.0</td>\n",
       "      <td>0.948631</td>\n",
       "      <td>0.449782</td>\n",
       "      <td>0.946874</td>\n",
       "      <td>0.000073</td>\n",
       "      <td>0.0</td>\n",
       "      <td>0.0</td>\n",
       "      <td>0.0</td>\n",
       "    </tr>\n",
       "    <tr>\n",
       "      <th>66</th>\n",
       "      <td>0.945397</td>\n",
       "      <td>0.578823</td>\n",
       "      <td>1.0</td>\n",
       "      <td>1.0</td>\n",
       "      <td>0.0</td>\n",
       "      <td>0.496158</td>\n",
       "      <td>0.179622</td>\n",
       "      <td>0.062983</td>\n",
       "      <td>0.981302</td>\n",
       "      <td>1.0</td>\n",
       "      <td>...</td>\n",
       "      <td>0.967064</td>\n",
       "      <td>1.0</td>\n",
       "      <td>0.0</td>\n",
       "      <td>0.948631</td>\n",
       "      <td>0.449782</td>\n",
       "      <td>0.946874</td>\n",
       "      <td>0.000073</td>\n",
       "      <td>0.0</td>\n",
       "      <td>0.0</td>\n",
       "      <td>0.0</td>\n",
       "    </tr>\n",
       "    <tr>\n",
       "      <th>67</th>\n",
       "      <td>0.938163</td>\n",
       "      <td>0.578710</td>\n",
       "      <td>1.0</td>\n",
       "      <td>1.0</td>\n",
       "      <td>0.0</td>\n",
       "      <td>0.496158</td>\n",
       "      <td>0.179622</td>\n",
       "      <td>0.062983</td>\n",
       "      <td>0.981302</td>\n",
       "      <td>1.0</td>\n",
       "      <td>...</td>\n",
       "      <td>0.967064</td>\n",
       "      <td>1.0</td>\n",
       "      <td>0.0</td>\n",
       "      <td>0.948631</td>\n",
       "      <td>0.449782</td>\n",
       "      <td>0.946874</td>\n",
       "      <td>0.000073</td>\n",
       "      <td>0.0</td>\n",
       "      <td>0.0</td>\n",
       "      <td>0.0</td>\n",
       "    </tr>\n",
       "  </tbody>\n",
       "</table>\n",
       "<p>68 rows × 51 columns</p>\n",
       "</div>"
      ],
      "text/plain": [
       "          0         1    2    3    4         5         6         7         8   \\\n",
       "0   0.884144  0.577133  1.0  1.0  0.0  0.496158  0.188845  0.064088  0.982899   \n",
       "1   0.891145  0.577190  1.0  1.0  0.0  0.496158  0.188845  0.064088  0.982899   \n",
       "2   0.906779  0.577133  1.0  1.0  0.0  0.496158  0.186209  0.064088  0.981663   \n",
       "3   0.923230  0.577302  1.0  1.0  0.0  0.496158  0.186209  0.064088  0.981663   \n",
       "4   0.935947  0.578034  1.0  1.0  0.0  0.496158  0.186209  0.064088  0.981972   \n",
       "..       ...       ...  ...  ...  ...       ...       ...       ...       ...   \n",
       "63  0.956481  0.580569  1.0  1.0  0.0  0.496158  0.179622  0.062983  0.980787   \n",
       "64  0.954614  0.579949  1.0  1.0  0.0  0.496158  0.179622  0.062983  0.980787   \n",
       "65  0.950997  0.579442  1.0  1.0  0.0  0.496158  0.179622  0.062983  0.980941   \n",
       "66  0.945397  0.578823  1.0  1.0  0.0  0.496158  0.179622  0.062983  0.981302   \n",
       "67  0.938163  0.578710  1.0  1.0  0.0  0.496158  0.179622  0.062983  0.981302   \n",
       "\n",
       "     9   ...        41   42   43        44        45        46        47   48  \\\n",
       "0   1.0  ...  0.970903  1.0  0.0  0.946125  0.449782  0.944116  0.000073  0.0   \n",
       "1   1.0  ...  0.970903  1.0  0.0  0.946125  0.449782  0.944521  0.000073  0.0   \n",
       "2   1.0  ...  0.973530  1.0  0.0  0.946188  0.449782  0.944521  0.000073  0.0   \n",
       "3   1.0  ...  0.973530  1.0  0.0  0.946188  0.449782  0.944197  0.000073  0.0   \n",
       "4   1.0  ...  0.973530  1.0  0.0  0.946188  0.449782  0.943629  0.000073  0.0   \n",
       "..  ...  ...       ...  ...  ...       ...       ...       ...       ...  ...   \n",
       "63  1.0  ...  0.967064  1.0  0.0  0.948631  0.449782  0.946874  0.000073  0.0   \n",
       "64  1.0  ...  0.967064  1.0  0.0  0.948631  0.449782  0.946874  0.000073  0.0   \n",
       "65  1.0  ...  0.967064  1.0  0.0  0.948631  0.449782  0.946874  0.000073  0.0   \n",
       "66  1.0  ...  0.967064  1.0  0.0  0.948631  0.449782  0.946874  0.000073  0.0   \n",
       "67  1.0  ...  0.967064  1.0  0.0  0.948631  0.449782  0.946874  0.000073  0.0   \n",
       "\n",
       "     49   50  \n",
       "0   0.0  0.0  \n",
       "1   0.0  0.0  \n",
       "2   0.0  0.0  \n",
       "3   0.0  0.0  \n",
       "4   0.0  0.0  \n",
       "..  ...  ...  \n",
       "63  0.0  0.0  \n",
       "64  0.0  0.0  \n",
       "65  0.0  0.0  \n",
       "66  0.0  0.0  \n",
       "67  0.0  0.0  \n",
       "\n",
       "[68 rows x 51 columns]"
      ]
     },
     "execution_count": 11,
     "metadata": {},
     "output_type": "execute_result"
    }
   ],
   "source": [
    "attack.head(68)"
   ]
  },
  {
   "cell_type": "code",
   "execution_count": 12,
   "id": "97ebed07",
   "metadata": {},
   "outputs": [
    {
     "data": {
      "text/html": [
       "<div>\n",
       "<style scoped>\n",
       "    .dataframe tbody tr th:only-of-type {\n",
       "        vertical-align: middle;\n",
       "    }\n",
       "\n",
       "    .dataframe tbody tr th {\n",
       "        vertical-align: top;\n",
       "    }\n",
       "\n",
       "    .dataframe thead th {\n",
       "        text-align: right;\n",
       "    }\n",
       "</style>\n",
       "<table border=\"1\" class=\"dataframe\">\n",
       "  <thead>\n",
       "    <tr style=\"text-align: right;\">\n",
       "      <th></th>\n",
       "      <th>0</th>\n",
       "      <th>1</th>\n",
       "      <th>2</th>\n",
       "      <th>3</th>\n",
       "      <th>4</th>\n",
       "      <th>5</th>\n",
       "      <th>6</th>\n",
       "      <th>7</th>\n",
       "      <th>8</th>\n",
       "      <th>9</th>\n",
       "      <th>...</th>\n",
       "      <th>41</th>\n",
       "      <th>42</th>\n",
       "      <th>43</th>\n",
       "      <th>44</th>\n",
       "      <th>45</th>\n",
       "      <th>46</th>\n",
       "      <th>47</th>\n",
       "      <th>48</th>\n",
       "      <th>49</th>\n",
       "      <th>50</th>\n",
       "    </tr>\n",
       "  </thead>\n",
       "  <tbody>\n",
       "  </tbody>\n",
       "</table>\n",
       "<p>0 rows × 51 columns</p>\n",
       "</div>"
      ],
      "text/plain": [
       "Empty DataFrame\n",
       "Columns: [0, 1, 2, 3, 4, 5, 6, 7, 8, 9, 10, 11, 12, 13, 14, 15, 16, 17, 18, 19, 20, 21, 22, 23, 24, 25, 26, 27, 28, 29, 30, 31, 32, 33, 34, 35, 36, 37, 38, 39, 40, 41, 42, 43, 44, 45, 46, 47, 48, 49, 50]\n",
       "Index: []\n",
       "\n",
       "[0 rows x 51 columns]"
      ]
     },
     "execution_count": 12,
     "metadata": {},
     "output_type": "execute_result"
    }
   ],
   "source": [
    "# no null values\n",
    "attack[attack.isna().any(axis=1)]"
   ]
  },
  {
   "cell_type": "code",
   "execution_count": 13,
   "id": "b5a59dfe",
   "metadata": {},
   "outputs": [],
   "source": [
    "window_size = 12\n",
    "# window_size = 60"
   ]
  },
  {
   "cell_type": "code",
   "execution_count": 14,
   "id": "67f2a4d6",
   "metadata": {},
   "outputs": [
    {
     "data": {
      "text/plain": [
       "(494988, 12, 51)"
      ]
     },
     "execution_count": 14,
     "metadata": {},
     "output_type": "execute_result"
    }
   ],
   "source": [
    "windows_normal = normal.values[np.arange(window_size)[None, :] + np.arange(normal.shape[0] - window_size)[:, None]]\n",
    "windows_normal.shape"
   ]
  },
  {
   "cell_type": "code",
   "execution_count": 15,
   "id": "f7438ae0",
   "metadata": {},
   "outputs": [
    {
     "data": {
      "text/plain": [
       "(449907, 12, 51)"
      ]
     },
     "execution_count": 15,
     "metadata": {},
     "output_type": "execute_result"
    }
   ],
   "source": [
    "windows_attack = attack.values[np.arange(window_size)[None, :] + np.arange(attack.shape[0] - window_size)[:, None]]\n",
    "windows_attack.shape"
   ]
  },
  {
   "cell_type": "code",
   "execution_count": 16,
   "id": "c6a35975",
   "metadata": {},
   "outputs": [],
   "source": [
    "w_size = windows_normal.shape[1] * windows_normal.shape[2]\n",
    "# z_size = 40 * windows_normal.shape[1]\n",
    "z_size = 40"
   ]
  },
  {
   "cell_type": "code",
   "execution_count": 17,
   "id": "a84a5f60",
   "metadata": {},
   "outputs": [],
   "source": [
    "model = Usad(w_size, z_size).to(device)"
   ]
  },
  {
   "cell_type": "markdown",
   "id": "ef7bf7a5",
   "metadata": {},
   "source": [
    "## Dataloader"
   ]
  },
  {
   "cell_type": "code",
   "execution_count": 18,
   "id": "14236044",
   "metadata": {},
   "outputs": [],
   "source": [
    "batch_size = 256\n",
    "# batch_size = 7919"
   ]
  },
  {
   "cell_type": "code",
   "execution_count": 19,
   "id": "0c59d198",
   "metadata": {},
   "outputs": [],
   "source": [
    "train_size = 0.8\n",
    "val_size = 0.2\n",
    "\n",
    "# val_size = 0.7\n",
    "# test_size = 0.3"
   ]
  },
  {
   "cell_type": "code",
   "execution_count": 20,
   "id": "ea4e195f",
   "metadata": {},
   "outputs": [],
   "source": [
    "windows_normal = windows_normal.reshape((windows_normal.shape[0], -1))\n",
    "windows_attack = windows_attack.reshape((windows_attack.shape[0], -1))"
   ]
  },
  {
   "cell_type": "code",
   "execution_count": 21,
   "id": "9bbed67e",
   "metadata": {},
   "outputs": [],
   "source": [
    "train_dataset, val_dataset = torch.utils.data.random_split(windows_normal, [train_size, val_size])\n",
    "# # val_dataset, test_dataset = torch.utils.data.random_split(windows_attack, [val_size, test_size])\n",
    "test_dataset = windows_attack\n",
    "\n",
    "\n",
    "# windows_normal_train = windows_normal[:int(np.floor(.8 *  windows_normal.shape[0]))]\n",
    "# windows_normal_val = windows_normal[int(np.floor(.8 *  windows_normal.shape[0])):int(np.floor(windows_normal.shape[0]))]\n",
    "\n",
    "train_dataloader = DataLoader(\n",
    "    train_dataset,\n",
    "    batch_size=batch_size,\n",
    "    shuffle=True\n",
    ")\n",
    "\n",
    "val_dataloader = DataLoader(\n",
    "    val_dataset,\n",
    "    batch_size=batch_size,\n",
    "    shuffle=False\n",
    ")\n",
    "\n",
    "test_dataloader = DataLoader(\n",
    "    test_dataset,\n",
    "    batch_size=batch_size,\n",
    "    shuffle=False\n",
    ")\n"
   ]
  },
  {
   "cell_type": "code",
   "execution_count": 22,
   "id": "b5e7026c",
   "metadata": {},
   "outputs": [],
   "source": [
    "# next(iter(train_dataloader)).shape"
   ]
  },
  {
   "cell_type": "code",
   "execution_count": 23,
   "id": "345ac6fd",
   "metadata": {},
   "outputs": [],
   "source": [
    "optimizer1 = torch.optim.Adam(list(model.encoder.parameters()) + list(model.decoder1.parameters()), lr=0.001)\n",
    "optimizer2 = torch.optim.Adam(list(model.encoder.parameters()) + list(model.decoder2.parameters()), lr=0.001)"
   ]
  },
  {
   "cell_type": "code",
   "execution_count": 24,
   "id": "f7089521",
   "metadata": {},
   "outputs": [],
   "source": [
    "def training_step(model, train_dataloader, optimizer1, optimizer2, device, epoch):\n",
    "    model.train()\n",
    "    running_loss = np.array([0.0, 0.0])\n",
    "    batch_bar = tqdm(total=len(train_dataloader), dynamic_ncols=True, leave=False, position=0, desc='Train')\n",
    "\n",
    "    for iter_id, batch in enumerate(train_dataloader):\n",
    "        batch = batch.to(dtype=torch.float32, device=device)\n",
    "\n",
    "        (loss_AE1, loss_AE2) = model.training_phase(batch, epoch + 1)\n",
    "        loss_AE1.backward()\n",
    "        optimizer1.step()\n",
    "        optimizer1.zero_grad()\n",
    "\n",
    "        (loss_AE1, loss_AE2) = model.training_phase(batch, epoch + 1)\n",
    "        loss_AE2.backward()\n",
    "        optimizer2.step()\n",
    "        optimizer2.zero_grad()\n",
    "        \n",
    "        running_loss[0] += loss_AE1.item()\n",
    "        running_loss[1] += loss_AE2.item()\n",
    "\n",
    "        batch_bar.set_postfix(\n",
    "            loss_AE1=\"{:.04f}\".format(running_loss[0] / (iter_id + 1)),\n",
    "            loss_AE2=\"{:.04f}\".format(running_loss[1] / (iter_id + 1))\n",
    "        )\n",
    "        batch_bar.update()\n",
    "\n",
    "    batch_bar.close()\n",
    "    return running_loss / len(train_dataloader)"
   ]
  },
  {
   "cell_type": "code",
   "execution_count": 25,
   "id": "ab3c3573",
   "metadata": {},
   "outputs": [],
   "source": [
    "def val_on_normal_dataset(model, val_dataloader, epoch, device):\n",
    "    model.eval()\n",
    "    AD_scores = []\n",
    "    with torch.no_grad():\n",
    "        for iter_id, batch in enumerate(val_dataloader):\n",
    "            batch = batch.to(dtype=torch.float32, device=device)\n",
    "            loss = model.training_phase(batch, epoch + 1)\n",
    "            loss = [x.item() for x in loss]\n",
    "            AD_scores.append(loss)\n",
    "    AD_scores = np.array(AD_scores)\n",
    "\n",
    "    return np.mean(AD_scores, axis=0)\n",
    "    # return AD_scores / len(val_dataloader)"
   ]
  },
  {
   "cell_type": "code",
   "execution_count": null,
   "id": "68af9198",
   "metadata": {},
   "outputs": [],
   "source": []
  },
  {
   "cell_type": "code",
   "execution_count": 26,
   "id": "3aafd527",
   "metadata": {},
   "outputs": [],
   "source": [
    "# val_on_normal_dataset(model, val_dataloader, 2, device)"
   ]
  },
  {
   "cell_type": "code",
   "execution_count": 27,
   "id": "410a3888",
   "metadata": {},
   "outputs": [],
   "source": [
    "alpha = 0.5\n",
    "beta = 1.0 - alpha"
   ]
  },
  {
   "cell_type": "code",
   "execution_count": 28,
   "id": "d9dbc112",
   "metadata": {},
   "outputs": [],
   "source": [
    "def validation_step(model, val_dataloader):\n",
    "    model.eval()\n",
    "    AD_scores = []\n",
    "    with torch.no_grad():\n",
    "        for batch in val_dataloader:\n",
    "            batch = batch.to(dtype=torch.float32, device=device)\n",
    "            w1 = model.decoder1(model.encoder(batch))\n",
    "            w2 = model.decoder2(model.encoder(w1))\n",
    "            AD_scores.append(alpha*torch.mean((batch-w1)**2,axis=1)+beta*torch.mean((batch-w2)**2,axis=1))\n",
    "            # AD_score = model.testing_phase(batch, alpha, beta)\n",
    "            # AD_scores.append(AD_score)\n",
    "            # for window in batch:\n",
    "            #     AD_score = model.testing_phase(window, alpha, beta)\n",
    "            #     AD_scores.append(AD_score)\n",
    "    \n",
    "    return AD_scores"
   ]
  },
  {
   "cell_type": "code",
   "execution_count": 29,
   "id": "0feaf46b",
   "metadata": {},
   "outputs": [
    {
     "name": "stderr",
     "output_type": "stream",
     "text": [
      "                                                                                             \r"
     ]
    },
    {
     "name": "stdout",
     "output_type": "stream",
     "text": [
      "epoch: 0, train_loss_AE1: 0.005449150874367936, train_loss_AE2: 0.005111519080383852\n",
      "val_loss_1: 0.0011089918943957091, val_loss_2: 0.0011238833004668914\n"
     ]
    },
    {
     "name": "stderr",
     "output_type": "stream",
     "text": [
      "                                                                                              \r"
     ]
    },
    {
     "name": "stdout",
     "output_type": "stream",
     "text": [
      "epoch: 1, train_loss_AE1: 0.009912214838747964, train_loss_AE2: -0.006763645679304351\n",
      "val_loss_1: 0.0022446027296915342, val_loss_2: -0.0009092140954242928\n"
     ]
    },
    {
     "name": "stderr",
     "output_type": "stream",
     "text": [
      "                                                                                              \r"
     ]
    },
    {
     "name": "stdout",
     "output_type": "stream",
     "text": [
      "epoch: 2, train_loss_AE1: 0.00583267219589798, train_loss_AE2: -0.004638739739338198\n",
      "val_loss_1: 0.00503795024955727, val_loss_2: -0.004180548123615849\n"
     ]
    },
    {
     "name": "stderr",
     "output_type": "stream",
     "text": [
      "                                                                                              \r"
     ]
    },
    {
     "name": "stdout",
     "output_type": "stream",
     "text": [
      "epoch: 3, train_loss_AE1: 0.006853210848305222, train_loss_AE2: -0.005957286309302768\n",
      "val_loss_1: 0.00784956190123846, val_loss_2: -0.007030884829140448\n"
     ]
    },
    {
     "name": "stderr",
     "output_type": "stream",
     "text": [
      "                                                                                              \r"
     ]
    },
    {
     "name": "stdout",
     "output_type": "stream",
     "text": [
      "epoch: 4, train_loss_AE1: 0.05134152042460956, train_loss_AE2: -0.046845113513624005\n",
      "val_loss_1: 0.06047907744074669, val_loss_2: -0.058690650017994624\n"
     ]
    },
    {
     "name": "stderr",
     "output_type": "stream",
     "text": [
      "                                                                                              \r"
     ]
    },
    {
     "name": "stdout",
     "output_type": "stream",
     "text": [
      "epoch: 5, train_loss_AE1: 0.025539658034765766, train_loss_AE2: -0.023959583744922026\n",
      "val_loss_1: 0.009932768416834046, val_loss_2: -0.009284997375763817\n"
     ]
    },
    {
     "name": "stderr",
     "output_type": "stream",
     "text": [
      "                                                                                              \r"
     ]
    },
    {
     "name": "stdout",
     "output_type": "stream",
     "text": [
      "epoch: 6, train_loss_AE1: 0.008942639153888998, train_loss_AE2: -0.008278184365384815\n",
      "val_loss_1: 0.02117525977720278, val_loss_2: -0.020026408441518782\n"
     ]
    },
    {
     "name": "stderr",
     "output_type": "stream",
     "text": [
      "                                                                                              \r"
     ]
    },
    {
     "name": "stdout",
     "output_type": "stream",
     "text": [
      "epoch: 7, train_loss_AE1: 0.01882014037413931, train_loss_AE2: -0.018257136304357702\n",
      "val_loss_1: 0.018301735011239845, val_loss_2: -0.017907755119721248\n"
     ]
    },
    {
     "name": "stderr",
     "output_type": "stream",
     "text": [
      "                                                                                              \r"
     ]
    },
    {
     "name": "stdout",
     "output_type": "stream",
     "text": [
      "epoch: 8, train_loss_AE1: 0.02144003085281553, train_loss_AE2: -0.02055425810824499\n",
      "val_loss_1: 0.02631416990967992, val_loss_2: -0.025162867773372382\n"
     ]
    },
    {
     "name": "stderr",
     "output_type": "stream",
     "text": [
      "                                                                                              \r"
     ]
    },
    {
     "name": "stdout",
     "output_type": "stream",
     "text": [
      "epoch: 9, train_loss_AE1: 0.09498846709111775, train_loss_AE2: -0.0876841537363023\n",
      "val_loss_1: 0.16244253200462005, val_loss_2: -0.15646376235540524\n"
     ]
    },
    {
     "name": "stderr",
     "output_type": "stream",
     "text": [
      "                                                                                              \r"
     ]
    },
    {
     "name": "stdout",
     "output_type": "stream",
     "text": [
      "epoch: 10, train_loss_AE1: 0.1697754027597659, train_loss_AE2: -0.16690084345894007\n",
      "val_loss_1: 0.17463473351888878, val_loss_2: -0.17207602921690435\n"
     ]
    },
    {
     "name": "stderr",
     "output_type": "stream",
     "text": [
      "                                                                                              \r"
     ]
    },
    {
     "name": "stdout",
     "output_type": "stream",
     "text": [
      "epoch: 11, train_loss_AE1: 0.11149428833490352, train_loss_AE2: -0.10846904389507245\n",
      "val_loss_1: 0.09931186155370347, val_loss_2: -0.09831931956054628\n"
     ]
    },
    {
     "name": "stderr",
     "output_type": "stream",
     "text": [
      "                                                                                              \r"
     ]
    },
    {
     "name": "stdout",
     "output_type": "stream",
     "text": [
      "epoch: 12, train_loss_AE1: 0.10534014809532326, train_loss_AE2: -0.10423611848583203\n",
      "val_loss_1: 0.12368372263680441, val_loss_2: -0.1202324585127584\n"
     ]
    },
    {
     "name": "stderr",
     "output_type": "stream",
     "text": [
      "                                                                                              \r"
     ]
    },
    {
     "name": "stdout",
     "output_type": "stream",
     "text": [
      "epoch: 13, train_loss_AE1: 0.12867392015383947, train_loss_AE2: -0.1266434147722812\n",
      "val_loss_1: 0.13107092898021372, val_loss_2: -0.13005422227065386\n"
     ]
    },
    {
     "name": "stderr",
     "output_type": "stream",
     "text": [
      "                                                                                              \r"
     ]
    },
    {
     "name": "stdout",
     "output_type": "stream",
     "text": [
      "epoch: 14, train_loss_AE1: 0.13403528977399806, train_loss_AE2: -0.13256851386257196\n",
      "val_loss_1: 0.1364243937709227, val_loss_2: -0.13577877608842628\n"
     ]
    },
    {
     "name": "stderr",
     "output_type": "stream",
     "text": [
      "                                                                                              \r"
     ]
    },
    {
     "name": "stdout",
     "output_type": "stream",
     "text": [
      "epoch: 15, train_loss_AE1: 0.1381179214381139, train_loss_AE2: -0.13629543140732864\n",
      "val_loss_1: 0.1388117600935066, val_loss_2: -0.133648163703985\n"
     ]
    },
    {
     "name": "stderr",
     "output_type": "stream",
     "text": [
      "                                                                                              \r"
     ]
    },
    {
     "name": "stdout",
     "output_type": "stream",
     "text": [
      "epoch: 16, train_loss_AE1: 0.11196028000994813, train_loss_AE2: -0.10774833299388173\n",
      "val_loss_1: 0.050755498098156555, val_loss_2: -0.04627408403951376\n"
     ]
    },
    {
     "name": "stderr",
     "output_type": "stream",
     "text": [
      "                                                                                              \r"
     ]
    },
    {
     "name": "stdout",
     "output_type": "stream",
     "text": [
      "epoch: 17, train_loss_AE1: 0.038717312027917575, train_loss_AE2: -0.03597075768590513\n",
      "val_loss_1: 0.02513461786704932, val_loss_2: -0.023756374684415122\n"
     ]
    },
    {
     "name": "stderr",
     "output_type": "stream",
     "text": [
      "                                                                                              \r"
     ]
    },
    {
     "name": "stdout",
     "output_type": "stream",
     "text": [
      "epoch: 18, train_loss_AE1: 0.1363569661257301, train_loss_AE2: -0.12989526568672968\n",
      "val_loss_1: 0.16415810923859747, val_loss_2: -0.1563543620728707\n"
     ]
    },
    {
     "name": "stderr",
     "output_type": "stream",
     "text": [
      "                                                                                              \r"
     ]
    },
    {
     "name": "stdout",
     "output_type": "stream",
     "text": [
      "epoch: 19, train_loss_AE1: 0.13160141338801953, train_loss_AE2: -0.1279124329908093\n",
      "val_loss_1: 0.12611656813119426, val_loss_2: -0.1195411165401301\n"
     ]
    },
    {
     "name": "stderr",
     "output_type": "stream",
     "text": [
      "                                                                                              \r"
     ]
    },
    {
     "name": "stdout",
     "output_type": "stream",
     "text": [
      "epoch: 20, train_loss_AE1: 0.1397059534440984, train_loss_AE2: -0.13559439994091363\n",
      "val_loss_1: 0.14058812828951103, val_loss_2: -0.13796399849483826\n"
     ]
    },
    {
     "name": "stderr",
     "output_type": "stream",
     "text": [
      "                                                                                              \r"
     ]
    },
    {
     "name": "stdout",
     "output_type": "stream",
     "text": [
      "epoch: 21, train_loss_AE1: 0.14067555186666822, train_loss_AE2: -0.13827097387027185\n",
      "val_loss_1: 0.1405969563996761, val_loss_2: -0.1383013001400063\n"
     ]
    },
    {
     "name": "stderr",
     "output_type": "stream",
     "text": [
      "                                                                                              \r"
     ]
    },
    {
     "name": "stdout",
     "output_type": "stream",
     "text": [
      "epoch: 22, train_loss_AE1: 0.1411151701672353, train_loss_AE2: -0.13517662458502253\n",
      "val_loss_1: 0.14100484777174563, val_loss_2: -0.1334566286444972\n"
     ]
    },
    {
     "name": "stderr",
     "output_type": "stream",
     "text": [
      "                                                                                              \r"
     ]
    },
    {
     "name": "stdout",
     "output_type": "stream",
     "text": [
      "epoch: 23, train_loss_AE1: 0.14221739613901976, train_loss_AE2: -0.13423054559853437\n",
      "val_loss_1: 0.14266224694498442, val_loss_2: -0.13401091056430678\n"
     ]
    },
    {
     "name": "stderr",
     "output_type": "stream",
     "text": [
      "                                                                                              \r"
     ]
    },
    {
     "name": "stdout",
     "output_type": "stream",
     "text": [
      "epoch: 24, train_loss_AE1: 0.14275675743298138, train_loss_AE2: -0.13446717368801256\n",
      "val_loss_1: 0.14279530411080796, val_loss_2: -0.1345040418149889\n"
     ]
    },
    {
     "name": "stderr",
     "output_type": "stream",
     "text": [
      "                                                                                              \r"
     ]
    },
    {
     "name": "stdout",
     "output_type": "stream",
     "text": [
      "epoch: 25, train_loss_AE1: 0.142999905729263, train_loss_AE2: -0.13491711387460126\n",
      "val_loss_1: 0.14313006324053426, val_loss_2: -0.13496564836927163\n"
     ]
    },
    {
     "name": "stderr",
     "output_type": "stream",
     "text": [
      "                                                                                              \r"
     ]
    },
    {
     "name": "stdout",
     "output_type": "stream",
     "text": [
      "epoch: 26, train_loss_AE1: 0.14318592493851567, train_loss_AE2: -0.13535830943948157\n",
      "val_loss_1: 0.1432174045294138, val_loss_2: -0.1354077103757119\n"
     ]
    },
    {
     "name": "stderr",
     "output_type": "stream",
     "text": [
      "                                                                                              \r"
     ]
    },
    {
     "name": "stdout",
     "output_type": "stream",
     "text": [
      "epoch: 27, train_loss_AE1: 0.1438142227824072, train_loss_AE2: -0.13668587778315053\n",
      "val_loss_1: 0.14388034171220251, val_loss_2: -0.1372970478171218\n"
     ]
    },
    {
     "name": "stderr",
     "output_type": "stream",
     "text": [
      "                                                                                              \r"
     ]
    },
    {
     "name": "stdout",
     "output_type": "stream",
     "text": [
      "epoch: 28, train_loss_AE1: 0.1468936694279053, train_loss_AE2: -0.13858834823139576\n",
      "val_loss_1: 0.14827157056454848, val_loss_2: -0.1391420270814452\n"
     ]
    },
    {
     "name": "stderr",
     "output_type": "stream",
     "text": [
      "                                                                                              \r"
     ]
    },
    {
     "name": "stdout",
     "output_type": "stream",
     "text": [
      "epoch: 29, train_loss_AE1: 0.14848913779240233, train_loss_AE2: -0.1395655436888\n",
      "val_loss_1: 0.14803410435061737, val_loss_2: -0.1395644062711287\n"
     ]
    },
    {
     "name": "stderr",
     "output_type": "stream",
     "text": [
      "                                                                                              \r"
     ]
    },
    {
     "name": "stdout",
     "output_type": "stream",
     "text": [
      "epoch: 30, train_loss_AE1: 0.1478492997215884, train_loss_AE2: -0.1398594786582181\n",
      "val_loss_1: 0.14698914143928263, val_loss_2: -0.1390594069193808\n"
     ]
    },
    {
     "name": "stderr",
     "output_type": "stream",
     "text": [
      "                                                                                              \r"
     ]
    },
    {
     "name": "stdout",
     "output_type": "stream",
     "text": [
      "epoch: 31, train_loss_AE1: 0.1460364429543846, train_loss_AE2: -0.13867045852277998\n",
      "val_loss_1: 0.1453775162844695, val_loss_2: -0.13858838799079876\n"
     ]
    },
    {
     "name": "stderr",
     "output_type": "stream",
     "text": [
      "                                                                                              \r"
     ]
    },
    {
     "name": "stdout",
     "output_type": "stream",
     "text": [
      "epoch: 32, train_loss_AE1: 0.16617706736866397, train_loss_AE2: -0.1581389545219208\n",
      "val_loss_1: 0.16986637691502732, val_loss_2: -0.16259387847835088\n"
     ]
    },
    {
     "name": "stderr",
     "output_type": "stream",
     "text": [
      "                                                                                              \r"
     ]
    },
    {
     "name": "stdout",
     "output_type": "stream",
     "text": [
      "epoch: 33, train_loss_AE1: 0.1643012020286623, train_loss_AE2: -0.15692779319704003\n",
      "val_loss_1: 0.16156701778256616, val_loss_2: -0.15389850119595688\n"
     ]
    },
    {
     "name": "stderr",
     "output_type": "stream",
     "text": [
      "                                                                                              \r"
     ]
    },
    {
     "name": "stdout",
     "output_type": "stream",
     "text": [
      "epoch: 34, train_loss_AE1: 0.16713073444158397, train_loss_AE2: -0.15954912708664062\n",
      "val_loss_1: 0.16582784441706439, val_loss_2: -0.15821682440372092\n"
     ]
    },
    {
     "name": "stderr",
     "output_type": "stream",
     "text": [
      "                                                                                              \r"
     ]
    },
    {
     "name": "stdout",
     "output_type": "stream",
     "text": [
      "epoch: 35, train_loss_AE1: 0.16574054429549592, train_loss_AE2: -0.15834895567155763\n",
      "val_loss_1: 0.1658813672318323, val_loss_2: -0.1584825876917334\n"
     ]
    },
    {
     "name": "stderr",
     "output_type": "stream",
     "text": [
      "                                                                                              \r"
     ]
    },
    {
     "name": "stdout",
     "output_type": "stream",
     "text": [
      "epoch: 36, train_loss_AE1: 0.16579081568898274, train_loss_AE2: -0.15860059377680152\n",
      "val_loss_1: 0.16592907035381602, val_loss_2: -0.15873398325702018\n"
     ]
    },
    {
     "name": "stderr",
     "output_type": "stream",
     "text": [
      "                                                                                              \r"
     ]
    },
    {
     "name": "stdout",
     "output_type": "stream",
     "text": [
      "epoch: 37, train_loss_AE1: 0.16542534925086927, train_loss_AE2: -0.15872883133989962\n",
      "val_loss_1: 0.16505107275891365, val_loss_2: -0.15838792931663898\n"
     ]
    },
    {
     "name": "stderr",
     "output_type": "stream",
     "text": [
      "                                                                                              \r"
     ]
    },
    {
     "name": "stdout",
     "output_type": "stream",
     "text": [
      "epoch: 38, train_loss_AE1: 0.17022480090818792, train_loss_AE2: -0.1633786499769979\n",
      "val_loss_1: 0.18464429880605496, val_loss_2: -0.17716733741667845\n"
     ]
    },
    {
     "name": "stderr",
     "output_type": "stream",
     "text": [
      "                                                                                              \r"
     ]
    },
    {
     "name": "stdout",
     "output_type": "stream",
     "text": [
      "epoch: 39, train_loss_AE1: 0.18956930016461848, train_loss_AE2: -0.18226930964316718\n",
      "val_loss_1: 0.19181576163269753, val_loss_2: -0.1845224190898028\n"
     ]
    },
    {
     "name": "stderr",
     "output_type": "stream",
     "text": [
      "                                                                                              \r"
     ]
    },
    {
     "name": "stdout",
     "output_type": "stream",
     "text": [
      "epoch: 40, train_loss_AE1: 0.1919037626108664, train_loss_AE2: -0.18479939574723717\n",
      "val_loss_1: 0.1918682729397017, val_loss_2: -0.18474905635651384\n"
     ]
    },
    {
     "name": "stderr",
     "output_type": "stream",
     "text": [
      "                                                                                              \r"
     ]
    },
    {
     "name": "stdout",
     "output_type": "stream",
     "text": [
      "epoch: 41, train_loss_AE1: 0.19034158502498902, train_loss_AE2: -0.18346759125965983\n",
      "val_loss_1: 0.19022417368814926, val_loss_2: -0.18338992795124842\n"
     ]
    },
    {
     "name": "stderr",
     "output_type": "stream",
     "text": [
      "                                                                                              \r"
     ]
    },
    {
     "name": "stdout",
     "output_type": "stream",
     "text": [
      "epoch: 42, train_loss_AE1: 0.1898991848259644, train_loss_AE2: -0.18365413533269628\n",
      "val_loss_1: 0.1893723296718696, val_loss_2: -0.18364107936081653\n"
     ]
    },
    {
     "name": "stderr",
     "output_type": "stream",
     "text": [
      "                                                                                              \r"
     ]
    },
    {
     "name": "stdout",
     "output_type": "stream",
     "text": [
      "epoch: 43, train_loss_AE1: 0.18649962534808928, train_loss_AE2: -0.18096872417674037\n",
      "val_loss_1: 0.18433854476734032, val_loss_2: -0.17885661702747493\n"
     ]
    },
    {
     "name": "stderr",
     "output_type": "stream",
     "text": [
      "                                                                                              \r"
     ]
    },
    {
     "name": "stdout",
     "output_type": "stream",
     "text": [
      "epoch: 44, train_loss_AE1: 0.16146706398179167, train_loss_AE2: -0.15620282712334113\n",
      "val_loss_1: 0.14914669454559798, val_loss_2: -0.14393144872915528\n"
     ]
    },
    {
     "name": "stderr",
     "output_type": "stream",
     "text": [
      "                                                                                              \r"
     ]
    },
    {
     "name": "stdout",
     "output_type": "stream",
     "text": [
      "epoch: 45, train_loss_AE1: 0.1513583218484982, train_loss_AE2: -0.14618611872273257\n",
      "val_loss_1: 0.15219715430138955, val_loss_2: -0.1469484299652336\n"
     ]
    },
    {
     "name": "stderr",
     "output_type": "stream",
     "text": [
      "                                                                                              \r"
     ]
    },
    {
     "name": "stdout",
     "output_type": "stream",
     "text": [
      "epoch: 46, train_loss_AE1: 0.1520856231855591, train_loss_AE2: -0.1469537831539482\n",
      "val_loss_1: 0.1522278791866253, val_loss_2: -0.14709091675527952\n"
     ]
    },
    {
     "name": "stderr",
     "output_type": "stream",
     "text": [
      "                                                                                              \r"
     ]
    },
    {
     "name": "stdout",
     "output_type": "stream",
     "text": [
      "epoch: 47, train_loss_AE1: 0.15330825410855534, train_loss_AE2: -0.14822512680126454\n",
      "val_loss_1: 0.153641783297832, val_loss_2: -0.1485469280826337\n"
     ]
    },
    {
     "name": "stderr",
     "output_type": "stream",
     "text": [
      "                                                                                              \r"
     ]
    },
    {
     "name": "stdout",
     "output_type": "stream",
     "text": [
      "epoch: 48, train_loss_AE1: 0.15354654286357766, train_loss_AE2: -0.14856056742846926\n",
      "val_loss_1: 0.15366926057702196, val_loss_2: -0.14867871310513764\n"
     ]
    },
    {
     "name": "stderr",
     "output_type": "stream",
     "text": [
      "                                                                                              \r"
     ]
    },
    {
     "name": "stdout",
     "output_type": "stream",
     "text": [
      "epoch: 49, train_loss_AE1: 0.15357288133543232, train_loss_AE2: -0.14868678992497358\n",
      "val_loss_1: 0.15369564144648323, val_loss_2: -0.14880483514732784\n"
     ]
    },
    {
     "name": "stderr",
     "output_type": "stream",
     "text": [
      "                                                                                              \r"
     ]
    },
    {
     "name": "stdout",
     "output_type": "stream",
     "text": [
      "epoch: 50, train_loss_AE1: 0.15382302990249455, train_loss_AE2: -0.14902754179993674\n",
      "val_loss_1: 0.15399009913437126, val_loss_2: -0.149191331609275\n"
     ]
    },
    {
     "name": "stderr",
     "output_type": "stream",
     "text": [
      "                                                                                              \r"
     ]
    },
    {
     "name": "stdout",
     "output_type": "stream",
     "text": [
      "epoch: 51, train_loss_AE1: 0.15389596050064566, train_loss_AE2: -0.14918918992406566\n",
      "val_loss_1: 0.15401976468951203, val_loss_2: -0.14930821427695204\n"
     ]
    },
    {
     "name": "stderr",
     "output_type": "stream",
     "text": [
      "                                                                                              \r"
     ]
    },
    {
     "name": "stdout",
     "output_type": "stream",
     "text": [
      "epoch: 52, train_loss_AE1: 0.15540591543076804, train_loss_AE2: -0.1507830066532956\n",
      "val_loss_1: 0.15678145719128986, val_loss_2: -0.15201714615643178\n"
     ]
    },
    {
     "name": "stderr",
     "output_type": "stream",
     "text": [
      "                                                                                              \r"
     ]
    },
    {
     "name": "stdout",
     "output_type": "stream",
     "text": [
      "epoch: 53, train_loss_AE1: 0.15668805531131583, train_loss_AE2: -0.1520160434222175\n",
      "val_loss_1: 0.15682325175258233, val_loss_2: -0.15214704400655218\n"
     ]
    },
    {
     "name": "stderr",
     "output_type": "stream",
     "text": [
      "                                                                                              \r"
     ]
    },
    {
     "name": "stdout",
     "output_type": "stream",
     "text": [
      "epoch: 54, train_loss_AE1: 0.15717025891996309, train_loss_AE2: -0.15266948460607893\n",
      "val_loss_1: 0.15790915023294838, val_loss_2: -0.1534121246762978\n"
     ]
    },
    {
     "name": "stderr",
     "output_type": "stream",
     "text": [
      "                                                                                              \r"
     ]
    },
    {
     "name": "stdout",
     "output_type": "stream",
     "text": [
      "epoch: 55, train_loss_AE1: 0.15774315340371, train_loss_AE2: -0.15332803785145938\n",
      "val_loss_1: 0.1578900159868467, val_loss_2: -0.15346965713556424\n"
     ]
    },
    {
     "name": "stderr",
     "output_type": "stream",
     "text": [
      "                                                                                              \r"
     ]
    },
    {
     "name": "stdout",
     "output_type": "stream",
     "text": [
      "epoch: 56, train_loss_AE1: 0.1581921163553874, train_loss_AE2: -0.1538339650815891\n",
      "val_loss_1: 0.15919123593842952, val_loss_2: -0.15457702738062049\n"
     ]
    },
    {
     "name": "stderr",
     "output_type": "stream",
     "text": [
      "                                                                                              \r"
     ]
    },
    {
     "name": "stdout",
     "output_type": "stream",
     "text": [
      "epoch: 57, train_loss_AE1: 0.1619739498565023, train_loss_AE2: -0.15739030004241195\n",
      "val_loss_1: 0.1623223509437354, val_loss_2: -0.15772750573256836\n"
     ]
    },
    {
     "name": "stderr",
     "output_type": "stream",
     "text": [
      "                                                                                              \r"
     ]
    },
    {
     "name": "stdout",
     "output_type": "stream",
     "text": [
      "epoch: 58, train_loss_AE1: 0.16223313569367587, train_loss_AE2: -0.15771858285301027\n",
      "val_loss_1: 0.16238756312264335, val_loss_2: -0.15785475691313583\n"
     ]
    },
    {
     "name": "stderr",
     "output_type": "stream",
     "text": [
      "                                                                                              \r"
     ]
    },
    {
     "name": "stdout",
     "output_type": "stream",
     "text": [
      "epoch: 59, train_loss_AE1: 0.16181455735591588, train_loss_AE2: -0.15737050626265595\n",
      "val_loss_1: 0.16151357286198195, val_loss_2: -0.15707243089528047\n"
     ]
    },
    {
     "name": "stderr",
     "output_type": "stream",
     "text": [
      "                                                                                              \r"
     ]
    },
    {
     "name": "stdout",
     "output_type": "stream",
     "text": [
      "epoch: 60, train_loss_AE1: 0.16141170542626976, train_loss_AE2: -0.1570478819344378\n",
      "val_loss_1: 0.16152920302494553, val_loss_2: -0.157161043980941\n"
     ]
    },
    {
     "name": "stderr",
     "output_type": "stream",
     "text": [
      "                                                                                              \r"
     ]
    },
    {
     "name": "stdout",
     "output_type": "stream",
     "text": [
      "epoch: 61, train_loss_AE1: 0.1618765638521123, train_loss_AE2: -0.15757490668515658\n",
      "val_loss_1: 0.16242644333254153, val_loss_2: -0.15810998873809204\n"
     ]
    },
    {
     "name": "stderr",
     "output_type": "stream",
     "text": [
      "                                                                                              \r"
     ]
    },
    {
     "name": "stdout",
     "output_type": "stream",
     "text": [
      "epoch: 62, train_loss_AE1: 0.16210743564324911, train_loss_AE2: -0.1578649209442644\n",
      "val_loss_1: 0.1612569337821438, val_loss_2: -0.1570137465030956\n"
     ]
    },
    {
     "name": "stderr",
     "output_type": "stream",
     "text": [
      "                                                                                              \r"
     ]
    },
    {
     "name": "stdout",
     "output_type": "stream",
     "text": [
      "epoch: 63, train_loss_AE1: 0.1625559695050573, train_loss_AE2: -0.1584117929628763\n",
      "val_loss_1: 0.16526724382734423, val_loss_2: -0.1611663512404267\n"
     ]
    },
    {
     "name": "stderr",
     "output_type": "stream",
     "text": [
      "                                                                                              \r"
     ]
    },
    {
     "name": "stdout",
     "output_type": "stream",
     "text": [
      "epoch: 64, train_loss_AE1: 0.16499947610599577, train_loss_AE2: -0.16090409546300682\n",
      "val_loss_1: 0.16461713654434343, val_loss_2: -0.16051026878430863\n"
     ]
    },
    {
     "name": "stderr",
     "output_type": "stream",
     "text": [
      "                                                                                              \r"
     ]
    },
    {
     "name": "stdout",
     "output_type": "stream",
     "text": [
      "epoch: 65, train_loss_AE1: 0.16400739257768732, train_loss_AE2: -0.15997410152870836\n",
      "val_loss_1: 0.1640745381360214, val_loss_2: -0.16003867044313316\n"
     ]
    },
    {
     "name": "stderr",
     "output_type": "stream",
     "text": [
      "                                                                                              \r"
     ]
    },
    {
     "name": "stdout",
     "output_type": "stream",
     "text": [
      "epoch: 66, train_loss_AE1: 0.16275362336180946, train_loss_AE2: -0.15879916446433964\n",
      "val_loss_1: 0.1627807279119812, val_loss_2: -0.15882464484804976\n"
     ]
    },
    {
     "name": "stderr",
     "output_type": "stream",
     "text": [
      "                                                                                              \r"
     ]
    },
    {
     "name": "stdout",
     "output_type": "stream",
     "text": [
      "epoch: 67, train_loss_AE1: 0.15187468347467756, train_loss_AE2: -0.1481359108906834\n",
      "val_loss_1: 0.14847025764234922, val_loss_2: -0.1447719137643967\n"
     ]
    },
    {
     "name": "stderr",
     "output_type": "stream",
     "text": [
      "                                                                                              \r"
     ]
    },
    {
     "name": "stdout",
     "output_type": "stream",
     "text": [
      "epoch: 68, train_loss_AE1: 0.1476721879680001, train_loss_AE2: -0.14406462054177108\n",
      "val_loss_1: 0.1482084821669014, val_loss_2: -0.1445837197223683\n"
     ]
    },
    {
     "name": "stderr",
     "output_type": "stream",
     "text": [
      "                                                                                              \r"
     ]
    },
    {
     "name": "stdout",
     "output_type": "stream",
     "text": [
      "epoch: 69, train_loss_AE1: 0.14802602424726383, train_loss_AE2: -0.14445721801628048\n",
      "val_loss_1: 0.1481421310695259, val_loss_2: -0.14457052541795626\n"
     ]
    },
    {
     "name": "stderr",
     "output_type": "stream",
     "text": [
      "                                                                                              \r"
     ]
    },
    {
     "name": "stdout",
     "output_type": "stream",
     "text": [
      "epoch: 70, train_loss_AE1: 0.14812127325946312, train_loss_AE2: -0.1446015270837446\n",
      "val_loss_1: 0.14918717333820747, val_loss_2: -0.14565091805402622\n"
     ]
    },
    {
     "name": "stderr",
     "output_type": "stream",
     "text": [
      "                                                                                              \r"
     ]
    },
    {
     "name": "stdout",
     "output_type": "stream",
     "text": [
      "epoch: 71, train_loss_AE1: 0.1491036526353111, train_loss_AE2: -0.14559934285855247\n",
      "val_loss_1: 0.14923287958907835, val_loss_2: -0.14571634058188407\n"
     ]
    },
    {
     "name": "stderr",
     "output_type": "stream",
     "text": [
      "                                                                                              \r"
     ]
    },
    {
     "name": "stdout",
     "output_type": "stream",
     "text": [
      "epoch: 72, train_loss_AE1: 0.14911925526842734, train_loss_AE2: -0.1456568917884469\n",
      "val_loss_1: 0.14918622628662936, val_loss_2: -0.14573479341752155\n"
     ]
    },
    {
     "name": "stderr",
     "output_type": "stream",
     "text": [
      "                                                                                              \r"
     ]
    },
    {
     "name": "stdout",
     "output_type": "stream",
     "text": [
      "epoch: 73, train_loss_AE1: 0.1496024887621133, train_loss_AE2: -0.14619380687426659\n",
      "val_loss_1: 0.15021044597299216, val_loss_2: -0.1467945265754557\n"
     ]
    },
    {
     "name": "stderr",
     "output_type": "stream",
     "text": [
      "                                                                                              \r"
     ]
    },
    {
     "name": "stdout",
     "output_type": "stream",
     "text": [
      "epoch: 74, train_loss_AE1: 0.14598147922665672, train_loss_AE2: -0.1426827158554955\n",
      "val_loss_1: 0.14193906829492683, val_loss_2: -0.13872343386482514\n"
     ]
    },
    {
     "name": "stderr",
     "output_type": "stream",
     "text": [
      "                                                                                              \r"
     ]
    },
    {
     "name": "stdout",
     "output_type": "stream",
     "text": [
      "epoch: 75, train_loss_AE1: 0.13983088861801737, train_loss_AE2: -0.1367022678419784\n",
      "val_loss_1: 0.13804771626026438, val_loss_2: -0.1349554223222634\n"
     ]
    },
    {
     "name": "stderr",
     "output_type": "stream",
     "text": [
      "                                                                                              \r"
     ]
    },
    {
     "name": "stdout",
     "output_type": "stream",
     "text": [
      "epoch: 76, train_loss_AE1: 0.13623218894313055, train_loss_AE2: -0.1332110906117334\n",
      "val_loss_1: 0.13577108558758286, val_loss_2: -0.1327603644948905\n"
     ]
    },
    {
     "name": "stderr",
     "output_type": "stream",
     "text": [
      "                                                                                              \r"
     ]
    },
    {
     "name": "stdout",
     "output_type": "stream",
     "text": [
      "epoch: 77, train_loss_AE1: 0.14024722496193304, train_loss_AE2: -0.137241029592969\n",
      "val_loss_1: 0.15093306388503822, val_loss_2: -0.14783756962426256\n"
     ]
    },
    {
     "name": "stderr",
     "output_type": "stream",
     "text": [
      "                                                                                              \r"
     ]
    },
    {
     "name": "stdout",
     "output_type": "stream",
     "text": [
      "epoch: 78, train_loss_AE1: 0.15746373135618186, train_loss_AE2: -0.15417808489831863\n",
      "val_loss_1: 0.14870533031394623, val_loss_2: -0.14540732996562347\n"
     ]
    },
    {
     "name": "stderr",
     "output_type": "stream",
     "text": [
      "                                                                                              \r"
     ]
    },
    {
     "name": "stdout",
     "output_type": "stream",
     "text": [
      "epoch: 79, train_loss_AE1: 0.151908769538962, train_loss_AE2: -0.14901541937299134\n",
      "val_loss_1: 0.15247790738747719, val_loss_2: -0.14967916012580387\n"
     ]
    },
    {
     "name": "stderr",
     "output_type": "stream",
     "text": [
      "                                                                                              \r"
     ]
    },
    {
     "name": "stdout",
     "output_type": "stream",
     "text": [
      "epoch: 80, train_loss_AE1: 0.15243231924642034, train_loss_AE2: -0.14966244994630795\n",
      "val_loss_1: 0.15249438102547205, val_loss_2: -0.14971144366479966\n"
     ]
    },
    {
     "name": "stderr",
     "output_type": "stream",
     "text": [
      "                                                                                              \r"
     ]
    },
    {
     "name": "stdout",
     "output_type": "stream",
     "text": [
      "epoch: 81, train_loss_AE1: 0.15245471058657806, train_loss_AE2: -0.14971378850181719\n",
      "val_loss_1: 0.1532556230168626, val_loss_2: -0.15053384202395298\n"
     ]
    },
    {
     "name": "stderr",
     "output_type": "stream",
     "text": [
      "                                                                                              \r"
     ]
    },
    {
     "name": "stdout",
     "output_type": "stream",
     "text": [
      "epoch: 82, train_loss_AE1: 0.1507729224586148, train_loss_AE2: -0.14806372012025554\n",
      "val_loss_1: 0.15064799685502853, val_loss_2: -0.14780583904541125\n"
     ]
    },
    {
     "name": "stderr",
     "output_type": "stream",
     "text": [
      "                                                                                              \r"
     ]
    },
    {
     "name": "stdout",
     "output_type": "stream",
     "text": [
      "epoch: 83, train_loss_AE1: 0.1505344417801039, train_loss_AE2: -0.1477051614250918\n",
      "val_loss_1: 0.15024844466561804, val_loss_2: -0.1474061956778361\n"
     ]
    },
    {
     "name": "stderr",
     "output_type": "stream",
     "text": [
      "                                                                                              \r"
     ]
    },
    {
     "name": "stdout",
     "output_type": "stream",
     "text": [
      "epoch: 84, train_loss_AE1: 0.15021415445869324, train_loss_AE2: -0.14740621323113914\n",
      "val_loss_1: 0.15026434509021058, val_loss_2: -0.14744863175914577\n"
     ]
    },
    {
     "name": "stderr",
     "output_type": "stream",
     "text": [
      "                                                                                              \r"
     ]
    },
    {
     "name": "stdout",
     "output_type": "stream",
     "text": [
      "epoch: 85, train_loss_AE1: 0.1492779857124447, train_loss_AE2: -0.14650512435163462\n",
      "val_loss_1: 0.1487181917102454, val_loss_2: -0.14598399581681235\n"
     ]
    },
    {
     "name": "stderr",
     "output_type": "stream",
     "text": [
      "                                                                                              \r"
     ]
    },
    {
     "name": "stdout",
     "output_type": "stream",
     "text": [
      "epoch: 86, train_loss_AE1: 0.14963957407278788, train_loss_AE2: -0.14699284635055582\n",
      "val_loss_1: 0.1512301840292391, val_loss_2: -0.14870869289380945\n"
     ]
    },
    {
     "name": "stderr",
     "output_type": "stream",
     "text": [
      "                                                                                              \r"
     ]
    },
    {
     "name": "stdout",
     "output_type": "stream",
     "text": [
      "epoch: 87, train_loss_AE1: 0.15193661849924112, train_loss_AE2: -0.14945727804436096\n",
      "val_loss_1: 0.1503186289423196, val_loss_2: -0.14792102798627021\n"
     ]
    },
    {
     "name": "stderr",
     "output_type": "stream",
     "text": [
      "                                                                                              \r"
     ]
    },
    {
     "name": "stdout",
     "output_type": "stream",
     "text": [
      "epoch: 88, train_loss_AE1: 0.14936648003887035, train_loss_AE2: -0.14703018813073135\n",
      "val_loss_1: 0.14952452854284637, val_loss_2: -0.14720470768228675\n"
     ]
    },
    {
     "name": "stderr",
     "output_type": "stream",
     "text": [
      "                                                                                              \r"
     ]
    },
    {
     "name": "stdout",
     "output_type": "stream",
     "text": [
      "epoch: 89, train_loss_AE1: 0.14943930910299422, train_loss_AE2: -0.14716508376767887\n",
      "val_loss_1: 0.14958034463477074, val_loss_2: -0.14730225730619997\n"
     ]
    },
    {
     "name": "stderr",
     "output_type": "stream",
     "text": [
      "                                                                                              \r"
     ]
    },
    {
     "name": "stdout",
     "output_type": "stream",
     "text": [
      "epoch: 90, train_loss_AE1: 0.14854206082199803, train_loss_AE2: -0.1463223962954883\n",
      "val_loss_1: 0.14747277414305882, val_loss_2: -0.14526598513588423\n"
     ]
    },
    {
     "name": "stderr",
     "output_type": "stream",
     "text": [
      "                                                                                              \r"
     ]
    },
    {
     "name": "stdout",
     "output_type": "stream",
     "text": [
      "epoch: 91, train_loss_AE1: 0.14828512540692734, train_loss_AE2: -0.1460936130846248\n",
      "val_loss_1: 0.14884812860371838, val_loss_2: -0.1466537778691728\n"
     ]
    },
    {
     "name": "stderr",
     "output_type": "stream",
     "text": [
      "                                                                                              \r"
     ]
    },
    {
     "name": "stdout",
     "output_type": "stream",
     "text": [
      "epoch: 92, train_loss_AE1: 0.1474455153761021, train_loss_AE2: -0.1451799068323011\n",
      "val_loss_1: 0.14766662523573992, val_loss_2: -0.14532284989221458\n"
     ]
    },
    {
     "name": "stderr",
     "output_type": "stream",
     "text": [
      "                                                                                              \r"
     ]
    },
    {
     "name": "stdout",
     "output_type": "stream",
     "text": [
      "epoch: 93, train_loss_AE1: 0.14708850373355667, train_loss_AE2: -0.14476831252527145\n",
      "val_loss_1: 0.14721640116638607, val_loss_2: -0.14489158421985862\n"
     ]
    },
    {
     "name": "stderr",
     "output_type": "stream",
     "text": [
      "                                                                                              \r"
     ]
    },
    {
     "name": "stdout",
     "output_type": "stream",
     "text": [
      "epoch: 94, train_loss_AE1: 0.1470596673377653, train_loss_AE2: -0.14488678634089658\n",
      "val_loss_1: 0.14852733324818526, val_loss_2: -0.1463696580062541\n"
     ]
    },
    {
     "name": "stderr",
     "output_type": "stream",
     "text": [
      "                                                                                              \r"
     ]
    },
    {
     "name": "stdout",
     "output_type": "stream",
     "text": [
      "epoch: 95, train_loss_AE1: 0.14854114166982882, train_loss_AE2: -0.14643027902651234\n",
      "val_loss_1: 0.14873658671243553, val_loss_2: -0.1466195900618876\n"
     ]
    },
    {
     "name": "stderr",
     "output_type": "stream",
     "text": [
      "                                                                                              \r"
     ]
    },
    {
     "name": "stdout",
     "output_type": "stream",
     "text": [
      "epoch: 96, train_loss_AE1: 0.14869214721510468, train_loss_AE2: -0.14659974206318452\n",
      "val_loss_1: 0.1487307907382955, val_loss_2: -0.14664511871584318\n"
     ]
    },
    {
     "name": "stderr",
     "output_type": "stream",
     "text": [
      "                                                                                              \r"
     ]
    },
    {
     "name": "stdout",
     "output_type": "stream",
     "text": [
      "epoch: 97, train_loss_AE1: 0.14755580566086612, train_loss_AE2: -0.1455153660691008\n",
      "val_loss_1: 0.14714435332043227, val_loss_2: -0.14511183978513228\n"
     ]
    },
    {
     "name": "stderr",
     "output_type": "stream",
     "text": [
      "                                                                                              \r"
     ]
    },
    {
     "name": "stdout",
     "output_type": "stream",
     "text": [
      "epoch: 98, train_loss_AE1: 0.14723394197576187, train_loss_AE2: -0.14521574441394117\n",
      "val_loss_1: 0.14740824857269455, val_loss_2: -0.14537611157087085\n"
     ]
    },
    {
     "name": "stderr",
     "output_type": "stream",
     "text": [
      "                                                                                              \r"
     ]
    },
    {
     "name": "stdout",
     "output_type": "stream",
     "text": [
      "epoch: 99, train_loss_AE1: 0.14827174703459933, train_loss_AE2: -0.14626168447613486\n",
      "val_loss_1: 0.1485279980247951, val_loss_2: -0.14651263641910653\n"
     ]
    }
   ],
   "source": [
    "running_losses = []\n",
    "val_losses = []\n",
    "\n",
    "for e in range(100):\n",
    "    running_loss = training_step(model, train_dataloader, optimizer1, optimizer2, device, e)\n",
    "    running_losses.append(running_loss)\n",
    "    print(f\"epoch: {e}, train_loss_AE1: {running_loss[0]}, train_loss_AE2: {running_loss[1]}\")\n",
    "    val_scores = val_on_normal_dataset(model, val_dataloader, e, device)\n",
    "    val_losses.append(val_scores)\n",
    "    print(f\"val_loss_1: {val_scores[0]}, val_loss_2: {val_scores[1]}\")"
   ]
  },
  {
   "cell_type": "code",
   "execution_count": 38,
   "id": "2124076d",
   "metadata": {},
   "outputs": [],
   "source": [
    "torch.save({\n",
    "    'encoder': model.encoder.state_dict(),\n",
    "    'decoder1': model.decoder1.state_dict(),\n",
    "    'decoder2': model.decoder2.state_dict()\n",
    "}, \"model.pth\")"
   ]
  },
  {
   "cell_type": "code",
   "execution_count": 29,
   "id": "83bc113e",
   "metadata": {},
   "outputs": [
    {
     "data": {
      "text/plain": [
       "<All keys matched successfully>"
      ]
     },
     "execution_count": 29,
     "metadata": {},
     "output_type": "execute_result"
    }
   ],
   "source": [
    "checkpoint = torch.load(\"model.pth\")\n",
    "\n",
    "model.encoder.load_state_dict(checkpoint['encoder'])\n",
    "model.decoder1.load_state_dict(checkpoint['decoder1'])\n",
    "model.decoder2.load_state_dict(checkpoint['decoder2'])"
   ]
  },
  {
   "cell_type": "code",
   "execution_count": 31,
   "id": "4d29008f",
   "metadata": {},
   "outputs": [],
   "source": [
    "# iter = iter(test_dataloader)"
   ]
  },
  {
   "cell_type": "code",
   "execution_count": 32,
   "id": "abfffaa2",
   "metadata": {},
   "outputs": [],
   "source": [
    "# one_window = next(iter(test_dataloader))"
   ]
  },
  {
   "cell_type": "code",
   "execution_count": 33,
   "id": "7554f01c",
   "metadata": {},
   "outputs": [],
   "source": [
    "# print(one_window)     # this is the FIRST WINDOW in attack dataset"
   ]
  },
  {
   "cell_type": "code",
   "execution_count": null,
   "id": "969ebd82",
   "metadata": {},
   "outputs": [],
   "source": [
    "# def test_one_window(model, window):\n",
    "#     model.eval()\n",
    "#     with torch.no_grad():\n",
    "#         window = window.to(dtype=torch.float32, device=device)\n",
    "#         AD_score = model.testing_phase(window, alpha, beta)\n",
    "#         return AD_score\n",
    "#     return"
   ]
  },
  {
   "cell_type": "code",
   "execution_count": null,
   "id": "14a67bc4",
   "metadata": {},
   "outputs": [],
   "source": [
    "# output = test_one_window(model, one_window)"
   ]
  },
  {
   "cell_type": "code",
   "execution_count": 30,
   "id": "c17de8d6",
   "metadata": {},
   "outputs": [],
   "source": [
    "def flatten_round_np(x):\n",
    "    ret = torch.cat(x).flatten()\n",
    "    ret = torch.round(ret, decimals=4)\n",
    "    ret = ret.detach().cpu().numpy()\n",
    "    return ret"
   ]
  },
  {
   "cell_type": "code",
   "execution_count": 31,
   "id": "5eff3385",
   "metadata": {},
   "outputs": [],
   "source": [
    "full_train_dataloader = DataLoader(\n",
    "    windows_normal,\n",
    "    batch_size=batch_size,\n",
    "    shuffle=False\n",
    ")"
   ]
  },
  {
   "cell_type": "code",
   "execution_count": 32,
   "id": "20b51e74",
   "metadata": {},
   "outputs": [],
   "source": [
    "train_scores = validation_step(model, full_train_dataloader)"
   ]
  },
  {
   "cell_type": "code",
   "execution_count": 33,
   "id": "b2611521",
   "metadata": {},
   "outputs": [],
   "source": [
    "train_scores = flatten_round_np(train_scores)"
   ]
  },
  {
   "cell_type": "code",
   "execution_count": 34,
   "id": "87465363",
   "metadata": {},
   "outputs": [
    {
     "data": {
      "text/plain": [
       "[<matplotlib.lines.Line2D at 0x1a042609d10>]"
      ]
     },
     "execution_count": 34,
     "metadata": {},
     "output_type": "execute_result"
    },
    {
     "data": {
      "image/png": "[encoded data removed]",
      "text/plain": [
       "<Figure size 640x480 with 1 Axes>"
      ]
     },
     "metadata": {},
     "output_type": "display_data"
    }
   ],
   "source": [
    "plt.plot(train_scores)"
   ]
  },
  {
   "cell_type": "code",
   "execution_count": null,
   "id": "08f9d7ab",
   "metadata": {},
   "outputs": [],
   "source": []
  },
  {
   "cell_type": "code",
   "execution_count": null,
   "id": "d3dfe575",
   "metadata": {},
   "outputs": [],
   "source": []
  },
  {
   "cell_type": "code",
   "execution_count": 39,
   "id": "08d9d90b",
   "metadata": {},
   "outputs": [],
   "source": [
    "windows_labels = []\n",
    "for i in range(len(labels) - window_size):\n",
    "    windows_labels.append(list(np.int_(labels[i:i + window_size])))"
   ]
  },
  {
   "cell_type": "code",
   "execution_count": 40,
   "id": "1c9a2567",
   "metadata": {},
   "outputs": [
    {
     "name": "stdout",
     "output_type": "stream",
     "text": [
      "449907\n",
      "12\n"
     ]
    }
   ],
   "source": [
    "print(len(windows_labels))\n",
    "print(len(windows_labels[0]))"
   ]
  },
  {
   "cell_type": "code",
   "execution_count": 41,
   "id": "b926f11c",
   "metadata": {},
   "outputs": [],
   "source": [
    "y_test = [1.0 if (np.sum(window) > 0) else 0 for window in windows_labels]"
   ]
  },
  {
   "cell_type": "code",
   "execution_count": null,
   "id": "a88b04e8",
   "metadata": {},
   "outputs": [
    {
     "data": {
      "text/plain": [
       "449907"
      ]
     },
     "execution_count": 43,
     "metadata": {},
     "output_type": "execute_result"
    }
   ],
   "source": [
    "y_test[]"
   ]
  },
  {
   "cell_type": "code",
   "execution_count": 44,
   "id": "77904e0f",
   "metadata": {},
   "outputs": [
    {
     "data": {
      "text/plain": [
       "1743"
      ]
     },
     "execution_count": 44,
     "metadata": {},
     "output_type": "execute_result"
    }
   ],
   "source": [
    "next(i for i, v in enumerate(y_test) if v != 0)"
   ]
  },
  {
   "cell_type": "code",
   "execution_count": null,
   "id": "b4c99cd4",
   "metadata": {},
   "outputs": [],
   "source": []
  },
  {
   "cell_type": "code",
   "execution_count": null,
   "id": "c91bae95",
   "metadata": {},
   "outputs": [],
   "source": [
    "test_scores = validation_step(model, test_dataloader)"
   ]
  },
  {
   "cell_type": "code",
   "execution_count": 36,
   "id": "1625e563",
   "metadata": {},
   "outputs": [],
   "source": [
    "test_scores = flatten_round_np(test_scores)"
   ]
  },
  {
   "cell_type": "code",
   "execution_count": 37,
   "id": "d0f1b446",
   "metadata": {},
   "outputs": [
    {
     "data": {
      "text/plain": [
       "[<matplotlib.lines.Line2D at 0x1a2cd671bd0>]"
      ]
     },
     "execution_count": 37,
     "metadata": {},
     "output_type": "execute_result"
    },
    {
     "data": {
      "image/png": "[encoded data removed]",
      "text/plain": [
       "<Figure size 640x480 with 1 Axes>"
      ]
     },
     "metadata": {},
     "output_type": "display_data"
    }
   ],
   "source": [
    "plt.plot(test_scores)\n",
    "# plt.plot(test_scores_flat[4900:5500])"
   ]
  },
  {
   "cell_type": "code",
   "execution_count": null,
   "id": "202fbb8b",
   "metadata": {},
   "outputs": [
    {
     "data": {
      "text/plain": [
       "array([0.3681, 0.3665, 0.3648, ..., 0.6701, 0.6714, 0.6733], dtype=float32)"
      ]
     },
     "execution_count": 87,
     "metadata": {},
     "output_type": "execute_result"
    }
   ],
   "source": [
    "test_scores[227800:263750]"
   ]
  },
  {
   "cell_type": "code",
   "execution_count": null,
   "id": "addb81ab",
   "metadata": {},
   "outputs": [],
   "source": []
  },
  {
   "cell_type": "code",
   "execution_count": null,
   "id": "9bd68dfa",
   "metadata": {},
   "outputs": [],
   "source": [
    "def validation_one_batch(model, batch):\n",
    "    model.eval()\n",
    "    AD_scores = []\n",
    "    with torch.no_grad():\n",
    "        batch = batch.to(dtype=torch.float32, device=device)\n",
    "        w1 = model.decoder1(model.encoder(batch))\n",
    "        w2 = model.decoder2(model.encoder(w1))\n",
    "        AD_scores.append(alpha*torch.mean((batch-w1)**2,axis=1)+beta*torch.mean((batch-w2)**2,axis=1))\n",
    "    \n",
    "    return AD_scores"
   ]
  },
  {
   "cell_type": "code",
   "execution_count": 51,
   "id": "6de0a490",
   "metadata": {},
   "outputs": [],
   "source": [
    "batch = next(iter(test_dataloader))"
   ]
  },
  {
   "cell_type": "code",
   "execution_count": 54,
   "id": "b8cfec58",
   "metadata": {},
   "outputs": [],
   "source": [
    "result = validation_one_batch(model, batch)"
   ]
  },
  {
   "cell_type": "code",
   "execution_count": 58,
   "id": "8fbe4705",
   "metadata": {},
   "outputs": [],
   "source": [
    "result = flatten_round_np(result)"
   ]
  },
  {
   "cell_type": "code",
   "execution_count": 59,
   "id": "52ff3944",
   "metadata": {},
   "outputs": [
    {
     "data": {
      "text/plain": [
       "[<matplotlib.lines.Line2D at 0x1660d07d6d0>]"
      ]
     },
     "execution_count": 59,
     "metadata": {},
     "output_type": "execute_result"
    },
    {
     "data": {
      "image/png": "[encoded data removed]",
      "text/plain": [
       "<Figure size 640x480 with 1 Axes>"
      ]
     },
     "metadata": {},
     "output_type": "display_data"
    }
   ],
   "source": [
    "plt.plot(result)"
   ]
  },
  {
   "cell_type": "code",
   "execution_count": null,
   "id": "512d52b9",
   "metadata": {},
   "outputs": [],
   "source": []
  },
  {
   "cell_type": "code",
   "execution_count": null,
   "id": "d69ee2c8",
   "metadata": {},
   "outputs": [],
   "source": []
  },
  {
   "cell_type": "code",
   "execution_count": 51,
   "id": "613a7fc8",
   "metadata": {},
   "outputs": [
    {
     "name": "stderr",
     "output_type": "stream",
     "text": [
      "C:\\Users\\alexr\\AppData\\Local\\Temp\\ipykernel_35228\\2618999078.py:1: DtypeWarning: Columns (26) have mixed types. Specify dtype option on import or set low_memory=False.\n",
      "  normal_df = pd.read_csv(\"datasets/SWaT/SWaT_Dataset_Normal_v1.csv\", sep=',')\n"
     ]
    },
    {
     "data": {
      "text/plain": [
       "(495000, 53)"
      ]
     },
     "execution_count": 51,
     "metadata": {},
     "output_type": "execute_result"
    }
   ],
   "source": [
    "normal_df = pd.read_csv(\"datasets/SWaT/SWaT_Dataset_Normal_v1.csv\", sep=',')\n",
    "normal_df.shape"
   ]
  },
  {
   "cell_type": "code",
   "execution_count": null,
   "id": "187d05a5",
   "metadata": {},
   "outputs": [
    {
     "data": {
      "text/plain": [
       "19"
      ]
     },
     "execution_count": 52,
     "metadata": {},
     "output_type": "execute_result"
    }
   ],
   "source": [
    "normal_df.columns.get_loc('LIT301')"
   ]
  },
  {
   "cell_type": "code",
   "execution_count": 53,
   "id": "236e4f04",
   "metadata": {},
   "outputs": [],
   "source": [
    "normal_df = normal_df.drop([\"Timestamp\", \"Normal/Attack\"], axis=1)\n",
    "\n",
    "# France uses commas as decimal separator; convert all columns into floats\n",
    "for i in list(normal_df):\n",
    "    normal_df[i] = normal_df[i].apply(lambda x: str(x).replace(',', '.'))\n",
    "normal_df = normal_df.astype(float)"
   ]
  },
  {
   "cell_type": "code",
   "execution_count": 59,
   "id": "ad1dc1cd",
   "metadata": {},
   "outputs": [
    {
     "name": "stdout",
     "output_type": "stream",
     "text": [
      "(495000,)\n"
     ]
    }
   ],
   "source": [
    "print(normal_df['LIT301'].shape)"
   ]
  },
  {
   "cell_type": "code",
   "execution_count": 67,
   "id": "191329a7",
   "metadata": {},
   "outputs": [
    {
     "data": {
      "text/plain": [
       "[<matplotlib.lines.Line2D at 0x2140bfcdbd0>]"
      ]
     },
     "execution_count": 67,
     "metadata": {},
     "output_type": "execute_result"
    },
    {
     "data": {
      "image/png": "[encoded data removed]",
      "text/plain": [
       "<Figure size 640x480 with 1 Axes>"
      ]
     },
     "metadata": {},
     "output_type": "display_data"
    }
   ],
   "source": [
    "plt.plot(normal_df['LIT301'][10000:80000])"
   ]
  }
 ],
 "metadata": {
  "kernelspec": {
   "display_name": "Python 3",
   "language": "python",
   "name": "python3"
  },
  "language_info": {
   "codemirror_mode": {
    "name": "ipython",
    "version": 3
   },
   "file_extension": ".py",
   "mimetype": "text/x-python",
   "name": "python",
   "nbconvert_exporter": "python",
   "pygments_lexer": "ipython3",
   "version": "3.13.5"
  }
 },
 "nbformat": 4,
 "nbformat_minor": 5
}
